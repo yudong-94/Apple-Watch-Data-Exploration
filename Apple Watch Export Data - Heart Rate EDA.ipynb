{
 "cells": [
  {
   "cell_type": "markdown",
   "metadata": {},
   "source": [
    "## Heart Rate Data EDA"
   ]
  },
  {
   "cell_type": "markdown",
   "metadata": {},
   "source": [
    "This notebook focus on exploring the Heart Rate dataset exported from Apple Watch, including  \n",
    "1. **Understand the data** -- What is the level of the data? What is the relationship and difference among the three heart rate types?  \n",
    "2. **Analyze and visualize the data** -- How is my heart rate distributed? Does it show different patterns on weekday/weekends and on different hours? What is the heart rate distribution and pattern difference between resting heart rate and walking heart rate?  "
   ]
  },
  {
   "cell_type": "code",
   "execution_count": 1,
   "metadata": {},
   "outputs": [],
   "source": [
    "import pandas as pd\n",
    "import numpy as np\n",
    "import matplotlib.pyplot as plt\n",
    "import seaborn as sns"
   ]
  },
  {
   "cell_type": "code",
   "execution_count": 2,
   "metadata": {},
   "outputs": [
    {
     "data": {
      "text/html": [
       "<div>\n",
       "<style scoped>\n",
       "    .dataframe tbody tr th:only-of-type {\n",
       "        vertical-align: middle;\n",
       "    }\n",
       "\n",
       "    .dataframe tbody tr th {\n",
       "        vertical-align: top;\n",
       "    }\n",
       "\n",
       "    .dataframe thead th {\n",
       "        text-align: right;\n",
       "    }\n",
       "</style>\n",
       "<table border=\"1\" class=\"dataframe\">\n",
       "  <thead>\n",
       "    <tr style=\"text-align: right;\">\n",
       "      <th></th>\n",
       "      <th>type</th>\n",
       "      <th>sourceName</th>\n",
       "      <th>unit</th>\n",
       "      <th>creationDate</th>\n",
       "      <th>startDate</th>\n",
       "      <th>endDate</th>\n",
       "      <th>value</th>\n",
       "    </tr>\n",
       "  </thead>\n",
       "  <tbody>\n",
       "    <tr>\n",
       "      <td>0</td>\n",
       "      <td>HKQuantityTypeIdentifierHeartRate</td>\n",
       "      <td>Yu’s Apple Watch</td>\n",
       "      <td>count/min</td>\n",
       "      <td>2019-08-29 19:45:48-08:00</td>\n",
       "      <td>2019-08-29 19:45:14-08:00</td>\n",
       "      <td>2019-08-29 19:45:14-08:00</td>\n",
       "      <td>93.0</td>\n",
       "    </tr>\n",
       "    <tr>\n",
       "      <td>1</td>\n",
       "      <td>HKQuantityTypeIdentifierHeartRate</td>\n",
       "      <td>Yu’s Apple Watch</td>\n",
       "      <td>count/min</td>\n",
       "      <td>2019-08-29 19:50:33-08:00</td>\n",
       "      <td>2019-08-29 19:47:20-08:00</td>\n",
       "      <td>2019-08-29 19:47:20-08:00</td>\n",
       "      <td>89.0</td>\n",
       "    </tr>\n",
       "    <tr>\n",
       "      <td>2</td>\n",
       "      <td>HKQuantityTypeIdentifierHeartRate</td>\n",
       "      <td>Yu’s Apple Watch</td>\n",
       "      <td>count/min</td>\n",
       "      <td>2019-08-29 19:56:00-08:00</td>\n",
       "      <td>2019-08-29 19:53:11-08:00</td>\n",
       "      <td>2019-08-29 19:53:11-08:00</td>\n",
       "      <td>87.0</td>\n",
       "    </tr>\n",
       "    <tr>\n",
       "      <td>3</td>\n",
       "      <td>HKQuantityTypeIdentifierHeartRate</td>\n",
       "      <td>Yu’s Apple Watch</td>\n",
       "      <td>count/min</td>\n",
       "      <td>2019-08-29 20:02:50-08:00</td>\n",
       "      <td>2019-08-29 19:57:39-08:00</td>\n",
       "      <td>2019-08-29 19:57:39-08:00</td>\n",
       "      <td>78.0</td>\n",
       "    </tr>\n",
       "    <tr>\n",
       "      <td>4</td>\n",
       "      <td>HKQuantityTypeIdentifierHeartRate</td>\n",
       "      <td>Yu’s Apple Watch</td>\n",
       "      <td>count/min</td>\n",
       "      <td>2019-08-29 20:07:01-08:00</td>\n",
       "      <td>2019-08-29 20:03:24-08:00</td>\n",
       "      <td>2019-08-29 20:03:24-08:00</td>\n",
       "      <td>84.0</td>\n",
       "    </tr>\n",
       "  </tbody>\n",
       "</table>\n",
       "</div>"
      ],
      "text/plain": [
       "                                type        sourceName       unit  \\\n",
       "0  HKQuantityTypeIdentifierHeartRate  Yu’s Apple Watch  count/min   \n",
       "1  HKQuantityTypeIdentifierHeartRate  Yu’s Apple Watch  count/min   \n",
       "2  HKQuantityTypeIdentifierHeartRate  Yu’s Apple Watch  count/min   \n",
       "3  HKQuantityTypeIdentifierHeartRate  Yu’s Apple Watch  count/min   \n",
       "4  HKQuantityTypeIdentifierHeartRate  Yu’s Apple Watch  count/min   \n",
       "\n",
       "               creationDate                 startDate  \\\n",
       "0 2019-08-29 19:45:48-08:00 2019-08-29 19:45:14-08:00   \n",
       "1 2019-08-29 19:50:33-08:00 2019-08-29 19:47:20-08:00   \n",
       "2 2019-08-29 19:56:00-08:00 2019-08-29 19:53:11-08:00   \n",
       "3 2019-08-29 20:02:50-08:00 2019-08-29 19:57:39-08:00   \n",
       "4 2019-08-29 20:07:01-08:00 2019-08-29 20:03:24-08:00   \n",
       "\n",
       "                    endDate  value  \n",
       "0 2019-08-29 19:45:14-08:00   93.0  \n",
       "1 2019-08-29 19:47:20-08:00   89.0  \n",
       "2 2019-08-29 19:53:11-08:00   87.0  \n",
       "3 2019-08-29 19:57:39-08:00   78.0  \n",
       "4 2019-08-29 20:03:24-08:00   84.0  "
      ]
     },
     "execution_count": 2,
     "metadata": {},
     "output_type": "execute_result"
    }
   ],
   "source": [
    "heart_rate_df = pd.read_csv('heart_rate.csv', parse_dates = [3,4,5])\n",
    "heart_rate_df.head()"
   ]
  },
  {
   "cell_type": "code",
   "execution_count": 3,
   "metadata": {},
   "outputs": [
    {
     "data": {
      "text/plain": [
       "type                                            object\n",
       "sourceName                                      object\n",
       "unit                                            object\n",
       "creationDate    datetime64[ns, pytz.FixedOffset(-480)]\n",
       "startDate       datetime64[ns, pytz.FixedOffset(-480)]\n",
       "endDate         datetime64[ns, pytz.FixedOffset(-480)]\n",
       "value                                          float64\n",
       "dtype: object"
      ]
     },
     "execution_count": 3,
     "metadata": {},
     "output_type": "execute_result"
    }
   ],
   "source": [
    "heart_rate_df.dtypes"
   ]
  },
  {
   "cell_type": "code",
   "execution_count": 4,
   "metadata": {},
   "outputs": [
    {
     "data": {
      "text/plain": [
       "(84831, 7)"
      ]
     },
     "execution_count": 4,
     "metadata": {},
     "output_type": "execute_result"
    }
   ],
   "source": [
    "heart_rate_df.shape"
   ]
  },
  {
   "cell_type": "code",
   "execution_count": 5,
   "metadata": {},
   "outputs": [
    {
     "data": {
      "text/plain": [
       "HKQuantityTypeIdentifierHeartRate                  84482\n",
       "HKQuantityTypeIdentifierRestingHeartRate             178\n",
       "HKQuantityTypeIdentifierWalkingHeartRateAverage      171\n",
       "Name: type, dtype: int64"
      ]
     },
     "execution_count": 5,
     "metadata": {},
     "output_type": "execute_result"
    }
   ],
   "source": [
    "heart_rate_df.type.value_counts()"
   ]
  },
  {
   "cell_type": "markdown",
   "metadata": {},
   "source": [
    "### Q1: What is the level of the data? is it always on second level with startDate = endDate?"
   ]
  },
  {
   "cell_type": "markdown",
   "metadata": {},
   "source": [
    "1. **HKQuantityTypeIdentifierHeartRate**  \n",
    "In most of the cases it's on second level (84352/84482), the other 130 have a longer interval (most of them fall around 10 mins);  \n",
    "2. **HKQuantityTypeIdentifierRestingHeartRate**  \n",
    "Always has a long time interval, mean is 17 hours;  \n",
    "3. **HKQuantityTypeIdentifierWalkingHeartRateAverage**  \n",
    "Always has a long time interval, mean is 20 hours.  "
   ]
  },
  {
   "cell_type": "markdown",
   "metadata": {},
   "source": [
    "**HKQuantityTypeIdentifierHeartRate**"
   ]
  },
  {
   "cell_type": "code",
   "execution_count": 6,
   "metadata": {},
   "outputs": [
    {
     "data": {
      "text/plain": [
       "130"
      ]
     },
     "execution_count": 6,
     "metadata": {},
     "output_type": "execute_result"
    }
   ],
   "source": [
    "# number of rows with different startdate and endadate for heart rate type\n",
    "heart_rate_df[(heart_rate_df['startDate'] != heart_rate_df['endDate']) & \n",
    "              (heart_rate_df['type'] == 'HKQuantityTypeIdentifierHeartRate')].shape[0]"
   ]
  },
  {
   "cell_type": "code",
   "execution_count": 7,
   "metadata": {},
   "outputs": [
    {
     "data": {
      "text/html": [
       "<div>\n",
       "<style scoped>\n",
       "    .dataframe tbody tr th:only-of-type {\n",
       "        vertical-align: middle;\n",
       "    }\n",
       "\n",
       "    .dataframe tbody tr th {\n",
       "        vertical-align: top;\n",
       "    }\n",
       "\n",
       "    .dataframe thead th {\n",
       "        text-align: right;\n",
       "    }\n",
       "</style>\n",
       "<table border=\"1\" class=\"dataframe\">\n",
       "  <thead>\n",
       "    <tr style=\"text-align: right;\">\n",
       "      <th></th>\n",
       "      <th>type</th>\n",
       "      <th>sourceName</th>\n",
       "      <th>unit</th>\n",
       "      <th>creationDate</th>\n",
       "      <th>startDate</th>\n",
       "      <th>endDate</th>\n",
       "      <th>value</th>\n",
       "    </tr>\n",
       "  </thead>\n",
       "  <tbody>\n",
       "    <tr>\n",
       "      <td>39322</td>\n",
       "      <td>HKQuantityTypeIdentifierHeartRate</td>\n",
       "      <td>Yu’s Apple Watch</td>\n",
       "      <td>count/min</td>\n",
       "      <td>2019-12-19 16:47:38-08:00</td>\n",
       "      <td>2019-09-20 08:19:04-08:00</td>\n",
       "      <td>2019-09-20 08:29:25-08:00</td>\n",
       "      <td>128.287</td>\n",
       "    </tr>\n",
       "    <tr>\n",
       "      <td>39323</td>\n",
       "      <td>HKQuantityTypeIdentifierHeartRate</td>\n",
       "      <td>Yu’s Apple Watch</td>\n",
       "      <td>count/min</td>\n",
       "      <td>2019-12-19 16:47:38-08:00</td>\n",
       "      <td>2019-09-20 08:29:27-08:00</td>\n",
       "      <td>2019-09-20 08:38:51-08:00</td>\n",
       "      <td>132.446</td>\n",
       "    </tr>\n",
       "    <tr>\n",
       "      <td>40196</td>\n",
       "      <td>HKQuantityTypeIdentifierHeartRate</td>\n",
       "      <td>Yu’s Apple Watch</td>\n",
       "      <td>count/min</td>\n",
       "      <td>2019-12-22 17:43:03-08:00</td>\n",
       "      <td>2019-09-23 07:35:46-08:00</td>\n",
       "      <td>2019-09-23 07:45:32-08:00</td>\n",
       "      <td>139.439</td>\n",
       "    </tr>\n",
       "    <tr>\n",
       "      <td>40197</td>\n",
       "      <td>HKQuantityTypeIdentifierHeartRate</td>\n",
       "      <td>Yu’s Apple Watch</td>\n",
       "      <td>count/min</td>\n",
       "      <td>2019-12-22 17:43:03-08:00</td>\n",
       "      <td>2019-09-23 07:45:37-08:00</td>\n",
       "      <td>2019-09-23 07:55:04-08:00</td>\n",
       "      <td>131.518</td>\n",
       "    </tr>\n",
       "    <tr>\n",
       "      <td>40198</td>\n",
       "      <td>HKQuantityTypeIdentifierHeartRate</td>\n",
       "      <td>Yu’s Apple Watch</td>\n",
       "      <td>count/min</td>\n",
       "      <td>2019-12-22 17:43:07-08:00</td>\n",
       "      <td>2019-09-23 08:35:16-08:00</td>\n",
       "      <td>2019-09-23 08:45:56-08:00</td>\n",
       "      <td>129.627</td>\n",
       "    </tr>\n",
       "    <tr>\n",
       "      <td>...</td>\n",
       "      <td>...</td>\n",
       "      <td>...</td>\n",
       "      <td>...</td>\n",
       "      <td>...</td>\n",
       "      <td>...</td>\n",
       "      <td>...</td>\n",
       "      <td>...</td>\n",
       "    </tr>\n",
       "    <tr>\n",
       "      <td>81933</td>\n",
       "      <td>HKQuantityTypeIdentifierHeartRate</td>\n",
       "      <td>Yu’s Apple Watch</td>\n",
       "      <td>count/min</td>\n",
       "      <td>2020-02-20 09:41:53-08:00</td>\n",
       "      <td>2019-11-21 21:39:36-08:00</td>\n",
       "      <td>2019-11-21 21:49:43-08:00</td>\n",
       "      <td>117.533</td>\n",
       "    </tr>\n",
       "    <tr>\n",
       "      <td>82707</td>\n",
       "      <td>HKQuantityTypeIdentifierHeartRate</td>\n",
       "      <td>Yu’s Apple Watch</td>\n",
       "      <td>count/min</td>\n",
       "      <td>2020-02-21 10:25:31-08:00</td>\n",
       "      <td>2019-11-22 21:08:02-08:00</td>\n",
       "      <td>2019-11-22 21:22:07-08:00</td>\n",
       "      <td>116.739</td>\n",
       "    </tr>\n",
       "    <tr>\n",
       "      <td>82708</td>\n",
       "      <td>HKQuantityTypeIdentifierHeartRate</td>\n",
       "      <td>Yu’s Apple Watch</td>\n",
       "      <td>count/min</td>\n",
       "      <td>2020-02-21 10:25:31-08:00</td>\n",
       "      <td>2019-11-22 21:22:13-08:00</td>\n",
       "      <td>2019-11-22 21:34:37-08:00</td>\n",
       "      <td>116.624</td>\n",
       "    </tr>\n",
       "    <tr>\n",
       "      <td>82709</td>\n",
       "      <td>HKQuantityTypeIdentifierHeartRate</td>\n",
       "      <td>Yu’s Apple Watch</td>\n",
       "      <td>count/min</td>\n",
       "      <td>2020-02-21 10:25:31-08:00</td>\n",
       "      <td>2019-11-22 21:34:42-08:00</td>\n",
       "      <td>2019-11-22 21:49:11-08:00</td>\n",
       "      <td>128.202</td>\n",
       "    </tr>\n",
       "    <tr>\n",
       "      <td>82710</td>\n",
       "      <td>HKQuantityTypeIdentifierHeartRate</td>\n",
       "      <td>Yu’s Apple Watch</td>\n",
       "      <td>count/min</td>\n",
       "      <td>2020-02-21 10:25:32-08:00</td>\n",
       "      <td>2019-11-22 21:49:13-08:00</td>\n",
       "      <td>2019-11-22 21:54:31-08:00</td>\n",
       "      <td>140.128</td>\n",
       "    </tr>\n",
       "  </tbody>\n",
       "</table>\n",
       "<p>130 rows × 7 columns</p>\n",
       "</div>"
      ],
      "text/plain": [
       "                                    type        sourceName       unit  \\\n",
       "39322  HKQuantityTypeIdentifierHeartRate  Yu’s Apple Watch  count/min   \n",
       "39323  HKQuantityTypeIdentifierHeartRate  Yu’s Apple Watch  count/min   \n",
       "40196  HKQuantityTypeIdentifierHeartRate  Yu’s Apple Watch  count/min   \n",
       "40197  HKQuantityTypeIdentifierHeartRate  Yu’s Apple Watch  count/min   \n",
       "40198  HKQuantityTypeIdentifierHeartRate  Yu’s Apple Watch  count/min   \n",
       "...                                  ...               ...        ...   \n",
       "81933  HKQuantityTypeIdentifierHeartRate  Yu’s Apple Watch  count/min   \n",
       "82707  HKQuantityTypeIdentifierHeartRate  Yu’s Apple Watch  count/min   \n",
       "82708  HKQuantityTypeIdentifierHeartRate  Yu’s Apple Watch  count/min   \n",
       "82709  HKQuantityTypeIdentifierHeartRate  Yu’s Apple Watch  count/min   \n",
       "82710  HKQuantityTypeIdentifierHeartRate  Yu’s Apple Watch  count/min   \n",
       "\n",
       "                   creationDate                 startDate  \\\n",
       "39322 2019-12-19 16:47:38-08:00 2019-09-20 08:19:04-08:00   \n",
       "39323 2019-12-19 16:47:38-08:00 2019-09-20 08:29:27-08:00   \n",
       "40196 2019-12-22 17:43:03-08:00 2019-09-23 07:35:46-08:00   \n",
       "40197 2019-12-22 17:43:03-08:00 2019-09-23 07:45:37-08:00   \n",
       "40198 2019-12-22 17:43:07-08:00 2019-09-23 08:35:16-08:00   \n",
       "...                         ...                       ...   \n",
       "81933 2020-02-20 09:41:53-08:00 2019-11-21 21:39:36-08:00   \n",
       "82707 2020-02-21 10:25:31-08:00 2019-11-22 21:08:02-08:00   \n",
       "82708 2020-02-21 10:25:31-08:00 2019-11-22 21:22:13-08:00   \n",
       "82709 2020-02-21 10:25:31-08:00 2019-11-22 21:34:42-08:00   \n",
       "82710 2020-02-21 10:25:32-08:00 2019-11-22 21:49:13-08:00   \n",
       "\n",
       "                        endDate    value  \n",
       "39322 2019-09-20 08:29:25-08:00  128.287  \n",
       "39323 2019-09-20 08:38:51-08:00  132.446  \n",
       "40196 2019-09-23 07:45:32-08:00  139.439  \n",
       "40197 2019-09-23 07:55:04-08:00  131.518  \n",
       "40198 2019-09-23 08:45:56-08:00  129.627  \n",
       "...                         ...      ...  \n",
       "81933 2019-11-21 21:49:43-08:00  117.533  \n",
       "82707 2019-11-22 21:22:07-08:00  116.739  \n",
       "82708 2019-11-22 21:34:37-08:00  116.624  \n",
       "82709 2019-11-22 21:49:11-08:00  128.202  \n",
       "82710 2019-11-22 21:54:31-08:00  140.128  \n",
       "\n",
       "[130 rows x 7 columns]"
      ]
     },
     "execution_count": 7,
     "metadata": {},
     "output_type": "execute_result"
    }
   ],
   "source": [
    "heart_rate_df[(heart_rate_df['startDate'] != heart_rate_df['endDate']) & \n",
    "              (heart_rate_df['type'] == 'HKQuantityTypeIdentifierHeartRate')] "
   ]
  },
  {
   "cell_type": "code",
   "execution_count": 8,
   "metadata": {},
   "outputs": [
    {
     "data": {
      "text/plain": [
       "count                       130\n",
       "mean     0 days 00:10:17.130769\n",
       "std      0 days 00:02:56.478665\n",
       "min             0 days 00:01:26\n",
       "25%      0 days 00:09:48.750000\n",
       "50%      0 days 00:10:40.500000\n",
       "75%      0 days 00:11:44.250000\n",
       "max             0 days 00:18:49\n",
       "Name: time_interval, dtype: object"
      ]
     },
     "execution_count": 8,
     "metadata": {},
     "output_type": "execute_result"
    }
   ],
   "source": [
    "# look at those records with longer interval\n",
    "long_interval_heart_rate_df = heart_rate_df[(heart_rate_df['startDate'] != heart_rate_df['endDate']) & \n",
    "                                            (heart_rate_df['type'] == 'HKQuantityTypeIdentifierHeartRate')].copy()\n",
    "long_interval_heart_rate_df['time_interval'] = long_interval_heart_rate_df['endDate'] - long_interval_heart_rate_df['startDate']\n",
    "long_interval_heart_rate_df['time_interval'].describe()\n"
   ]
  },
  {
   "cell_type": "code",
   "execution_count": 9,
   "metadata": {
    "scrolled": true
   },
   "outputs": [
    {
     "data": {
      "text/plain": [
       "<matplotlib.axes._subplots.AxesSubplot at 0x1a1aa06a50>"
      ]
     },
     "execution_count": 9,
     "metadata": {},
     "output_type": "execute_result"
    },
    {
     "data": {
      "image/png": "[encoded data removed]",
      "text/plain": [
       "<Figure size 432x288 with 1 Axes>"
      ]
     },
     "metadata": {
      "needs_background": "light"
     },
     "output_type": "display_data"
    }
   ],
   "source": [
    "# distribution of time interval\n",
    "sns.distplot(long_interval_heart_rate_df['time_interval'] / np.timedelta64(1,'m'))"
   ]
  },
  {
   "cell_type": "markdown",
   "metadata": {},
   "source": [
    "**HKQuantityTypeIdentifierRestingHeartRate**"
   ]
  },
  {
   "cell_type": "code",
   "execution_count": 10,
   "metadata": {},
   "outputs": [
    {
     "data": {
      "text/plain": [
       "178"
      ]
     },
     "execution_count": 10,
     "metadata": {},
     "output_type": "execute_result"
    }
   ],
   "source": [
    "# number of rows with different startdate and endadate for resting heart rate type\n",
    "heart_rate_df[(heart_rate_df['startDate'] != heart_rate_df['endDate']) & \n",
    "              (heart_rate_df['type'] == 'HKQuantityTypeIdentifierRestingHeartRate')].shape[0]"
   ]
  },
  {
   "cell_type": "code",
   "execution_count": 11,
   "metadata": {},
   "outputs": [
    {
     "data": {
      "text/html": [
       "<div>\n",
       "<style scoped>\n",
       "    .dataframe tbody tr th:only-of-type {\n",
       "        vertical-align: middle;\n",
       "    }\n",
       "\n",
       "    .dataframe tbody tr th {\n",
       "        vertical-align: top;\n",
       "    }\n",
       "\n",
       "    .dataframe thead th {\n",
       "        text-align: right;\n",
       "    }\n",
       "</style>\n",
       "<table border=\"1\" class=\"dataframe\">\n",
       "  <thead>\n",
       "    <tr style=\"text-align: right;\">\n",
       "      <th></th>\n",
       "      <th>type</th>\n",
       "      <th>sourceName</th>\n",
       "      <th>unit</th>\n",
       "      <th>creationDate</th>\n",
       "      <th>startDate</th>\n",
       "      <th>endDate</th>\n",
       "      <th>value</th>\n",
       "    </tr>\n",
       "  </thead>\n",
       "  <tbody>\n",
       "    <tr>\n",
       "      <td>84482</td>\n",
       "      <td>HKQuantityTypeIdentifierRestingHeartRate</td>\n",
       "      <td>Yu’s Apple Watch</td>\n",
       "      <td>count/min</td>\n",
       "      <td>2019-08-30 22:44:47-08:00</td>\n",
       "      <td>2019-08-29 23:04:37-08:00</td>\n",
       "      <td>2019-08-30 22:41:00-08:00</td>\n",
       "      <td>57.0</td>\n",
       "    </tr>\n",
       "    <tr>\n",
       "      <td>84483</td>\n",
       "      <td>HKQuantityTypeIdentifierRestingHeartRate</td>\n",
       "      <td>Yu’s Apple Watch</td>\n",
       "      <td>count/min</td>\n",
       "      <td>2019-08-31 12:54:55-08:00</td>\n",
       "      <td>2019-08-30 23:00:38-08:00</td>\n",
       "      <td>2019-08-31 12:48:43-08:00</td>\n",
       "      <td>51.0</td>\n",
       "    </tr>\n",
       "    <tr>\n",
       "      <td>84484</td>\n",
       "      <td>HKQuantityTypeIdentifierRestingHeartRate</td>\n",
       "      <td>Yu’s Apple Watch</td>\n",
       "      <td>count/min</td>\n",
       "      <td>2019-09-01 19:58:45-08:00</td>\n",
       "      <td>2019-08-31 23:02:07-08:00</td>\n",
       "      <td>2019-09-01 19:51:54-08:00</td>\n",
       "      <td>54.0</td>\n",
       "    </tr>\n",
       "    <tr>\n",
       "      <td>84485</td>\n",
       "      <td>HKQuantityTypeIdentifierRestingHeartRate</td>\n",
       "      <td>Yu’s Apple Watch</td>\n",
       "      <td>count/min</td>\n",
       "      <td>2019-09-02 20:58:46-08:00</td>\n",
       "      <td>2019-09-01 23:24:49-08:00</td>\n",
       "      <td>2019-09-02 20:58:24-08:00</td>\n",
       "      <td>48.0</td>\n",
       "    </tr>\n",
       "    <tr>\n",
       "      <td>84486</td>\n",
       "      <td>HKQuantityTypeIdentifierRestingHeartRate</td>\n",
       "      <td>Yu’s Apple Watch</td>\n",
       "      <td>count/min</td>\n",
       "      <td>2019-09-03 20:50:01-08:00</td>\n",
       "      <td>2019-09-02 23:00:12-08:00</td>\n",
       "      <td>2019-09-03 20:43:50-08:00</td>\n",
       "      <td>50.0</td>\n",
       "    </tr>\n",
       "    <tr>\n",
       "      <td>...</td>\n",
       "      <td>...</td>\n",
       "      <td>...</td>\n",
       "      <td>...</td>\n",
       "      <td>...</td>\n",
       "      <td>...</td>\n",
       "      <td>...</td>\n",
       "      <td>...</td>\n",
       "    </tr>\n",
       "    <tr>\n",
       "      <td>84655</td>\n",
       "      <td>HKQuantityTypeIdentifierRestingHeartRate</td>\n",
       "      <td>Yu’s Apple Watch</td>\n",
       "      <td>count/min</td>\n",
       "      <td>2020-02-19 15:33:18-08:00</td>\n",
       "      <td>2020-02-19 00:00:48-08:00</td>\n",
       "      <td>2020-02-19 15:28:17-08:00</td>\n",
       "      <td>57.0</td>\n",
       "    </tr>\n",
       "    <tr>\n",
       "      <td>84656</td>\n",
       "      <td>HKQuantityTypeIdentifierRestingHeartRate</td>\n",
       "      <td>Yu’s Apple Watch</td>\n",
       "      <td>count/min</td>\n",
       "      <td>2020-02-20 18:22:00-08:00</td>\n",
       "      <td>2020-02-20 00:05:21-08:00</td>\n",
       "      <td>2020-02-20 18:18:04-08:00</td>\n",
       "      <td>55.0</td>\n",
       "    </tr>\n",
       "    <tr>\n",
       "      <td>84657</td>\n",
       "      <td>HKQuantityTypeIdentifierRestingHeartRate</td>\n",
       "      <td>Yu’s Apple Watch</td>\n",
       "      <td>count/min</td>\n",
       "      <td>2020-02-21 14:08:06-08:00</td>\n",
       "      <td>2020-02-21 00:02:53-08:00</td>\n",
       "      <td>2020-02-21 14:04:57-08:00</td>\n",
       "      <td>56.0</td>\n",
       "    </tr>\n",
       "    <tr>\n",
       "      <td>84658</td>\n",
       "      <td>HKQuantityTypeIdentifierRestingHeartRate</td>\n",
       "      <td>Yu’s Apple Watch</td>\n",
       "      <td>count/min</td>\n",
       "      <td>2020-02-22 17:09:15-08:00</td>\n",
       "      <td>2020-02-22 01:05:04-08:00</td>\n",
       "      <td>2020-02-22 17:05:14-08:00</td>\n",
       "      <td>56.0</td>\n",
       "    </tr>\n",
       "    <tr>\n",
       "      <td>84659</td>\n",
       "      <td>HKQuantityTypeIdentifierRestingHeartRate</td>\n",
       "      <td>Yu’s Apple Watch</td>\n",
       "      <td>count/min</td>\n",
       "      <td>2020-02-23 06:33:01-08:00</td>\n",
       "      <td>2020-02-23 00:06:18-08:00</td>\n",
       "      <td>2020-02-23 06:24:06-08:00</td>\n",
       "      <td>58.0</td>\n",
       "    </tr>\n",
       "  </tbody>\n",
       "</table>\n",
       "<p>178 rows × 7 columns</p>\n",
       "</div>"
      ],
      "text/plain": [
       "                                           type        sourceName       unit  \\\n",
       "84482  HKQuantityTypeIdentifierRestingHeartRate  Yu’s Apple Watch  count/min   \n",
       "84483  HKQuantityTypeIdentifierRestingHeartRate  Yu’s Apple Watch  count/min   \n",
       "84484  HKQuantityTypeIdentifierRestingHeartRate  Yu’s Apple Watch  count/min   \n",
       "84485  HKQuantityTypeIdentifierRestingHeartRate  Yu’s Apple Watch  count/min   \n",
       "84486  HKQuantityTypeIdentifierRestingHeartRate  Yu’s Apple Watch  count/min   \n",
       "...                                         ...               ...        ...   \n",
       "84655  HKQuantityTypeIdentifierRestingHeartRate  Yu’s Apple Watch  count/min   \n",
       "84656  HKQuantityTypeIdentifierRestingHeartRate  Yu’s Apple Watch  count/min   \n",
       "84657  HKQuantityTypeIdentifierRestingHeartRate  Yu’s Apple Watch  count/min   \n",
       "84658  HKQuantityTypeIdentifierRestingHeartRate  Yu’s Apple Watch  count/min   \n",
       "84659  HKQuantityTypeIdentifierRestingHeartRate  Yu’s Apple Watch  count/min   \n",
       "\n",
       "                   creationDate                 startDate  \\\n",
       "84482 2019-08-30 22:44:47-08:00 2019-08-29 23:04:37-08:00   \n",
       "84483 2019-08-31 12:54:55-08:00 2019-08-30 23:00:38-08:00   \n",
       "84484 2019-09-01 19:58:45-08:00 2019-08-31 23:02:07-08:00   \n",
       "84485 2019-09-02 20:58:46-08:00 2019-09-01 23:24:49-08:00   \n",
       "84486 2019-09-03 20:50:01-08:00 2019-09-02 23:00:12-08:00   \n",
       "...                         ...                       ...   \n",
       "84655 2020-02-19 15:33:18-08:00 2020-02-19 00:00:48-08:00   \n",
       "84656 2020-02-20 18:22:00-08:00 2020-02-20 00:05:21-08:00   \n",
       "84657 2020-02-21 14:08:06-08:00 2020-02-21 00:02:53-08:00   \n",
       "84658 2020-02-22 17:09:15-08:00 2020-02-22 01:05:04-08:00   \n",
       "84659 2020-02-23 06:33:01-08:00 2020-02-23 00:06:18-08:00   \n",
       "\n",
       "                        endDate  value  \n",
       "84482 2019-08-30 22:41:00-08:00   57.0  \n",
       "84483 2019-08-31 12:48:43-08:00   51.0  \n",
       "84484 2019-09-01 19:51:54-08:00   54.0  \n",
       "84485 2019-09-02 20:58:24-08:00   48.0  \n",
       "84486 2019-09-03 20:43:50-08:00   50.0  \n",
       "...                         ...    ...  \n",
       "84655 2020-02-19 15:28:17-08:00   57.0  \n",
       "84656 2020-02-20 18:18:04-08:00   55.0  \n",
       "84657 2020-02-21 14:04:57-08:00   56.0  \n",
       "84658 2020-02-22 17:05:14-08:00   56.0  \n",
       "84659 2020-02-23 06:24:06-08:00   58.0  \n",
       "\n",
       "[178 rows x 7 columns]"
      ]
     },
     "execution_count": 11,
     "metadata": {},
     "output_type": "execute_result"
    }
   ],
   "source": [
    "heart_rate_df[(heart_rate_df['startDate'] != heart_rate_df['endDate']) & \n",
    "              (heart_rate_df['type'] == 'HKQuantityTypeIdentifierRestingHeartRate')] "
   ]
  },
  {
   "cell_type": "code",
   "execution_count": 12,
   "metadata": {},
   "outputs": [
    {
     "name": "stdout",
     "output_type": "stream",
     "text": [
      "count                       178\n",
      "mean     0 days 16:45:10.488764\n",
      "std      0 days 05:20:02.409189\n",
      "min             0 days 00:45:28\n",
      "25%      0 days 12:39:01.750000\n",
      "50%      0 days 17:04:51.500000\n",
      "75%             0 days 20:56:07\n",
      "max             1 days 07:29:58\n",
      "Name: time_interval, dtype: object\n"
     ]
    },
    {
     "data": {
      "text/plain": [
       "<matplotlib.axes._subplots.AxesSubplot at 0x1a1a9ad8d0>"
      ]
     },
     "execution_count": 12,
     "metadata": {},
     "output_type": "execute_result"
    },
    {
     "data": {
      "image/png": "[encoded data removed]",
      "text/plain": [
       "<Figure size 432x288 with 1 Axes>"
      ]
     },
     "metadata": {
      "needs_background": "light"
     },
     "output_type": "display_data"
    }
   ],
   "source": [
    "# look at the interval distribution\n",
    "resting_heart_rate_interval = heart_rate_df[(heart_rate_df['startDate'] != heart_rate_df['endDate']) & \n",
    "                                            (heart_rate_df['type'] == 'HKQuantityTypeIdentifierRestingHeartRate')].copy()\n",
    "resting_heart_rate_interval['time_interval'] = resting_heart_rate_interval['endDate'] - resting_heart_rate_interval['startDate']\n",
    "print(resting_heart_rate_interval['time_interval'].describe())\n",
    "\n",
    "sns.distplot(resting_heart_rate_interval['time_interval'] / np.timedelta64(1,'h'))"
   ]
  },
  {
   "cell_type": "markdown",
   "metadata": {},
   "source": [
    "**HKQuantityTypeIdentifierWalkingHeartRateAverage**"
   ]
  },
  {
   "cell_type": "code",
   "execution_count": 13,
   "metadata": {},
   "outputs": [
    {
     "data": {
      "text/plain": [
       "171"
      ]
     },
     "execution_count": 13,
     "metadata": {},
     "output_type": "execute_result"
    }
   ],
   "source": [
    "# number of rows with different startdate and endadate for walking heart rate type\n",
    "heart_rate_df[(heart_rate_df['startDate'] != heart_rate_df['endDate']) & \n",
    "              (heart_rate_df['type'] == 'HKQuantityTypeIdentifierWalkingHeartRateAverage')].shape[0]"
   ]
  },
  {
   "cell_type": "code",
   "execution_count": 14,
   "metadata": {},
   "outputs": [
    {
     "data": {
      "text/html": [
       "<div>\n",
       "<style scoped>\n",
       "    .dataframe tbody tr th:only-of-type {\n",
       "        vertical-align: middle;\n",
       "    }\n",
       "\n",
       "    .dataframe tbody tr th {\n",
       "        vertical-align: top;\n",
       "    }\n",
       "\n",
       "    .dataframe thead th {\n",
       "        text-align: right;\n",
       "    }\n",
       "</style>\n",
       "<table border=\"1\" class=\"dataframe\">\n",
       "  <thead>\n",
       "    <tr style=\"text-align: right;\">\n",
       "      <th></th>\n",
       "      <th>type</th>\n",
       "      <th>sourceName</th>\n",
       "      <th>unit</th>\n",
       "      <th>creationDate</th>\n",
       "      <th>startDate</th>\n",
       "      <th>endDate</th>\n",
       "      <th>value</th>\n",
       "    </tr>\n",
       "  </thead>\n",
       "  <tbody>\n",
       "    <tr>\n",
       "      <td>84660</td>\n",
       "      <td>HKQuantityTypeIdentifierWalkingHeartRateAverage</td>\n",
       "      <td>Yu’s Apple Watch</td>\n",
       "      <td>count/min</td>\n",
       "      <td>2019-08-30 15:40:57-08:00</td>\n",
       "      <td>2019-08-29 23:04:37-08:00</td>\n",
       "      <td>2019-08-30 15:40:53-08:00</td>\n",
       "      <td>96.0</td>\n",
       "    </tr>\n",
       "    <tr>\n",
       "      <td>84661</td>\n",
       "      <td>HKQuantityTypeIdentifierWalkingHeartRateAverage</td>\n",
       "      <td>Yu’s Apple Watch</td>\n",
       "      <td>count/min</td>\n",
       "      <td>2019-08-31 13:42:13-08:00</td>\n",
       "      <td>2019-08-30 23:00:38-08:00</td>\n",
       "      <td>2019-08-31 13:42:08-08:00</td>\n",
       "      <td>108.0</td>\n",
       "    </tr>\n",
       "    <tr>\n",
       "      <td>84662</td>\n",
       "      <td>HKQuantityTypeIdentifierWalkingHeartRateAverage</td>\n",
       "      <td>Yu’s Apple Watch</td>\n",
       "      <td>count/min</td>\n",
       "      <td>2019-09-01 11:58:33-08:00</td>\n",
       "      <td>2019-08-31 23:02:07-08:00</td>\n",
       "      <td>2019-09-01 11:58:28-08:00</td>\n",
       "      <td>99.0</td>\n",
       "    </tr>\n",
       "    <tr>\n",
       "      <td>84663</td>\n",
       "      <td>HKQuantityTypeIdentifierWalkingHeartRateAverage</td>\n",
       "      <td>Yu’s Apple Watch</td>\n",
       "      <td>count/min</td>\n",
       "      <td>2019-09-02 16:56:14-08:00</td>\n",
       "      <td>2019-09-01 23:24:49-08:00</td>\n",
       "      <td>2019-09-02 16:56:09-08:00</td>\n",
       "      <td>95.0</td>\n",
       "    </tr>\n",
       "    <tr>\n",
       "      <td>84664</td>\n",
       "      <td>HKQuantityTypeIdentifierWalkingHeartRateAverage</td>\n",
       "      <td>Yu’s Apple Watch</td>\n",
       "      <td>count/min</td>\n",
       "      <td>2019-09-03 15:47:30-08:00</td>\n",
       "      <td>2019-09-02 23:00:12-08:00</td>\n",
       "      <td>2019-09-03 15:47:25-08:00</td>\n",
       "      <td>94.0</td>\n",
       "    </tr>\n",
       "    <tr>\n",
       "      <td>...</td>\n",
       "      <td>...</td>\n",
       "      <td>...</td>\n",
       "      <td>...</td>\n",
       "      <td>...</td>\n",
       "      <td>...</td>\n",
       "      <td>...</td>\n",
       "      <td>...</td>\n",
       "    </tr>\n",
       "    <tr>\n",
       "      <td>84826</td>\n",
       "      <td>HKQuantityTypeIdentifierWalkingHeartRateAverage</td>\n",
       "      <td>Yu’s Apple Watch</td>\n",
       "      <td>count/min</td>\n",
       "      <td>2020-02-18 17:54:51-08:00</td>\n",
       "      <td>2020-02-18 00:04:15-08:00</td>\n",
       "      <td>2020-02-18 17:54:49-08:00</td>\n",
       "      <td>119.5</td>\n",
       "    </tr>\n",
       "    <tr>\n",
       "      <td>84827</td>\n",
       "      <td>HKQuantityTypeIdentifierWalkingHeartRateAverage</td>\n",
       "      <td>Yu’s Apple Watch</td>\n",
       "      <td>count/min</td>\n",
       "      <td>2020-02-19 19:04:56-08:00</td>\n",
       "      <td>2020-02-19 00:00:48-08:00</td>\n",
       "      <td>2020-02-19 19:04:54-08:00</td>\n",
       "      <td>99.5</td>\n",
       "    </tr>\n",
       "    <tr>\n",
       "      <td>84828</td>\n",
       "      <td>HKQuantityTypeIdentifierWalkingHeartRateAverage</td>\n",
       "      <td>Yu’s Apple Watch</td>\n",
       "      <td>count/min</td>\n",
       "      <td>2020-02-20 18:51:19-08:00</td>\n",
       "      <td>2020-02-20 00:05:21-08:00</td>\n",
       "      <td>2020-02-20 18:51:17-08:00</td>\n",
       "      <td>107.0</td>\n",
       "    </tr>\n",
       "    <tr>\n",
       "      <td>84829</td>\n",
       "      <td>HKQuantityTypeIdentifierWalkingHeartRateAverage</td>\n",
       "      <td>Yu’s Apple Watch</td>\n",
       "      <td>count/min</td>\n",
       "      <td>2020-02-21 15:20:29-08:00</td>\n",
       "      <td>2020-02-21 00:02:53-08:00</td>\n",
       "      <td>2020-02-21 15:20:28-08:00</td>\n",
       "      <td>96.0</td>\n",
       "    </tr>\n",
       "    <tr>\n",
       "      <td>84830</td>\n",
       "      <td>HKQuantityTypeIdentifierWalkingHeartRateAverage</td>\n",
       "      <td>Yu’s Apple Watch</td>\n",
       "      <td>count/min</td>\n",
       "      <td>2020-02-22 14:12:03-08:00</td>\n",
       "      <td>2020-02-22 01:05:04-08:00</td>\n",
       "      <td>2020-02-22 14:12:02-08:00</td>\n",
       "      <td>99.0</td>\n",
       "    </tr>\n",
       "  </tbody>\n",
       "</table>\n",
       "<p>171 rows × 7 columns</p>\n",
       "</div>"
      ],
      "text/plain": [
       "                                                  type        sourceName  \\\n",
       "84660  HKQuantityTypeIdentifierWalkingHeartRateAverage  Yu’s Apple Watch   \n",
       "84661  HKQuantityTypeIdentifierWalkingHeartRateAverage  Yu’s Apple Watch   \n",
       "84662  HKQuantityTypeIdentifierWalkingHeartRateAverage  Yu’s Apple Watch   \n",
       "84663  HKQuantityTypeIdentifierWalkingHeartRateAverage  Yu’s Apple Watch   \n",
       "84664  HKQuantityTypeIdentifierWalkingHeartRateAverage  Yu’s Apple Watch   \n",
       "...                                                ...               ...   \n",
       "84826  HKQuantityTypeIdentifierWalkingHeartRateAverage  Yu’s Apple Watch   \n",
       "84827  HKQuantityTypeIdentifierWalkingHeartRateAverage  Yu’s Apple Watch   \n",
       "84828  HKQuantityTypeIdentifierWalkingHeartRateAverage  Yu’s Apple Watch   \n",
       "84829  HKQuantityTypeIdentifierWalkingHeartRateAverage  Yu’s Apple Watch   \n",
       "84830  HKQuantityTypeIdentifierWalkingHeartRateAverage  Yu’s Apple Watch   \n",
       "\n",
       "            unit              creationDate                 startDate  \\\n",
       "84660  count/min 2019-08-30 15:40:57-08:00 2019-08-29 23:04:37-08:00   \n",
       "84661  count/min 2019-08-31 13:42:13-08:00 2019-08-30 23:00:38-08:00   \n",
       "84662  count/min 2019-09-01 11:58:33-08:00 2019-08-31 23:02:07-08:00   \n",
       "84663  count/min 2019-09-02 16:56:14-08:00 2019-09-01 23:24:49-08:00   \n",
       "84664  count/min 2019-09-03 15:47:30-08:00 2019-09-02 23:00:12-08:00   \n",
       "...          ...                       ...                       ...   \n",
       "84826  count/min 2020-02-18 17:54:51-08:00 2020-02-18 00:04:15-08:00   \n",
       "84827  count/min 2020-02-19 19:04:56-08:00 2020-02-19 00:00:48-08:00   \n",
       "84828  count/min 2020-02-20 18:51:19-08:00 2020-02-20 00:05:21-08:00   \n",
       "84829  count/min 2020-02-21 15:20:29-08:00 2020-02-21 00:02:53-08:00   \n",
       "84830  count/min 2020-02-22 14:12:03-08:00 2020-02-22 01:05:04-08:00   \n",
       "\n",
       "                        endDate  value  \n",
       "84660 2019-08-30 15:40:53-08:00   96.0  \n",
       "84661 2019-08-31 13:42:08-08:00  108.0  \n",
       "84662 2019-09-01 11:58:28-08:00   99.0  \n",
       "84663 2019-09-02 16:56:09-08:00   95.0  \n",
       "84664 2019-09-03 15:47:25-08:00   94.0  \n",
       "...                         ...    ...  \n",
       "84826 2020-02-18 17:54:49-08:00  119.5  \n",
       "84827 2020-02-19 19:04:54-08:00   99.5  \n",
       "84828 2020-02-20 18:51:17-08:00  107.0  \n",
       "84829 2020-02-21 15:20:28-08:00   96.0  \n",
       "84830 2020-02-22 14:12:02-08:00   99.0  \n",
       "\n",
       "[171 rows x 7 columns]"
      ]
     },
     "execution_count": 14,
     "metadata": {},
     "output_type": "execute_result"
    }
   ],
   "source": [
    "heart_rate_df[(heart_rate_df['startDate'] != heart_rate_df['endDate']) & \n",
    "              (heart_rate_df['type'] == 'HKQuantityTypeIdentifierWalkingHeartRateAverage')] "
   ]
  },
  {
   "cell_type": "code",
   "execution_count": 15,
   "metadata": {},
   "outputs": [
    {
     "name": "stdout",
     "output_type": "stream",
     "text": [
      "count                       171\n",
      "mean     0 days 17:11:04.263157\n",
      "std      0 days 03:50:07.722193\n",
      "min             0 days 02:20:56\n",
      "25%      0 days 15:09:46.500000\n",
      "50%             0 days 17:12:10\n",
      "75%      0 days 19:00:16.500000\n",
      "max             1 days 08:47:28\n",
      "Name: time_interval, dtype: object\n"
     ]
    },
    {
     "data": {
      "text/plain": [
       "<matplotlib.axes._subplots.AxesSubplot at 0x1a1a938950>"
      ]
     },
     "execution_count": 15,
     "metadata": {},
     "output_type": "execute_result"
    },
    {
     "data": {
      "image/png": "[encoded data removed]",
      "text/plain": [
       "<Figure size 432x288 with 1 Axes>"
      ]
     },
     "metadata": {
      "needs_background": "light"
     },
     "output_type": "display_data"
    }
   ],
   "source": [
    "# look at the interval distribution\n",
    "walking_heart_rate_interval = heart_rate_df[(heart_rate_df['startDate'] != heart_rate_df['endDate']) & \n",
    "                                            (heart_rate_df['type'] == 'HKQuantityTypeIdentifierWalkingHeartRateAverage')].copy()\n",
    "walking_heart_rate_interval['time_interval'] = walking_heart_rate_interval['endDate'] - walking_heart_rate_interval['startDate']\n",
    "print(walking_heart_rate_interval['time_interval'].describe())\n",
    "\n",
    "sns.distplot(walking_heart_rate_interval['time_interval'] / np.timedelta64(1,'h'))"
   ]
  },
  {
   "cell_type": "markdown",
   "metadata": {},
   "source": [
    "### Q2: Relationship between HeartRate, RestingHeartRate, and WalkingHeartRate -- Does the first one aggregated the other two as well?"
   ]
  },
  {
   "cell_type": "markdown",
   "metadata": {},
   "source": [
    "HeartRate data include all the heart rate record on a more frequent level (second in most cases), while you can find overlap time period in RestingHeartRate and WalkingHeartRate datasets, which indicate the average resting / walking heart rate in a given time period.  "
   ]
  },
  {
   "cell_type": "code",
   "execution_count": 16,
   "metadata": {},
   "outputs": [],
   "source": [
    "heart_rate = heart_rate_df[(heart_rate_df['startDate'] == heart_rate_df['endDate']) & \n",
    "              (heart_rate_df['type'] == 'HKQuantityTypeIdentifierHeartRate')] \n",
    "resting_heart_rate = heart_rate_df[heart_rate_df['type'] == 'HKQuantityTypeIdentifierRestingHeartRate'] \n",
    "walking_heart_rate = heart_rate_df[heart_rate_df['type'] == 'HKQuantityTypeIdentifierWalkingHeartRateAverage'] "
   ]
  },
  {
   "cell_type": "code",
   "execution_count": 17,
   "metadata": {},
   "outputs": [
    {
     "data": {
      "text/html": [
       "<div>\n",
       "<style scoped>\n",
       "    .dataframe tbody tr th:only-of-type {\n",
       "        vertical-align: middle;\n",
       "    }\n",
       "\n",
       "    .dataframe tbody tr th {\n",
       "        vertical-align: top;\n",
       "    }\n",
       "\n",
       "    .dataframe thead th {\n",
       "        text-align: right;\n",
       "    }\n",
       "</style>\n",
       "<table border=\"1\" class=\"dataframe\">\n",
       "  <thead>\n",
       "    <tr style=\"text-align: right;\">\n",
       "      <th></th>\n",
       "      <th>type</th>\n",
       "      <th>sourceName</th>\n",
       "      <th>unit</th>\n",
       "      <th>creationDate</th>\n",
       "      <th>startDate</th>\n",
       "      <th>endDate</th>\n",
       "      <th>value</th>\n",
       "    </tr>\n",
       "  </thead>\n",
       "  <tbody>\n",
       "    <tr>\n",
       "      <td>84482</td>\n",
       "      <td>HKQuantityTypeIdentifierRestingHeartRate</td>\n",
       "      <td>Yu’s Apple Watch</td>\n",
       "      <td>count/min</td>\n",
       "      <td>2019-08-30 22:44:47-08:00</td>\n",
       "      <td>2019-08-29 23:04:37-08:00</td>\n",
       "      <td>2019-08-30 22:41:00-08:00</td>\n",
       "      <td>57.0</td>\n",
       "    </tr>\n",
       "    <tr>\n",
       "      <td>84483</td>\n",
       "      <td>HKQuantityTypeIdentifierRestingHeartRate</td>\n",
       "      <td>Yu’s Apple Watch</td>\n",
       "      <td>count/min</td>\n",
       "      <td>2019-08-31 12:54:55-08:00</td>\n",
       "      <td>2019-08-30 23:00:38-08:00</td>\n",
       "      <td>2019-08-31 12:48:43-08:00</td>\n",
       "      <td>51.0</td>\n",
       "    </tr>\n",
       "    <tr>\n",
       "      <td>84484</td>\n",
       "      <td>HKQuantityTypeIdentifierRestingHeartRate</td>\n",
       "      <td>Yu’s Apple Watch</td>\n",
       "      <td>count/min</td>\n",
       "      <td>2019-09-01 19:58:45-08:00</td>\n",
       "      <td>2019-08-31 23:02:07-08:00</td>\n",
       "      <td>2019-09-01 19:51:54-08:00</td>\n",
       "      <td>54.0</td>\n",
       "    </tr>\n",
       "    <tr>\n",
       "      <td>84485</td>\n",
       "      <td>HKQuantityTypeIdentifierRestingHeartRate</td>\n",
       "      <td>Yu’s Apple Watch</td>\n",
       "      <td>count/min</td>\n",
       "      <td>2019-09-02 20:58:46-08:00</td>\n",
       "      <td>2019-09-01 23:24:49-08:00</td>\n",
       "      <td>2019-09-02 20:58:24-08:00</td>\n",
       "      <td>48.0</td>\n",
       "    </tr>\n",
       "    <tr>\n",
       "      <td>84486</td>\n",
       "      <td>HKQuantityTypeIdentifierRestingHeartRate</td>\n",
       "      <td>Yu’s Apple Watch</td>\n",
       "      <td>count/min</td>\n",
       "      <td>2019-09-03 20:50:01-08:00</td>\n",
       "      <td>2019-09-02 23:00:12-08:00</td>\n",
       "      <td>2019-09-03 20:43:50-08:00</td>\n",
       "      <td>50.0</td>\n",
       "    </tr>\n",
       "    <tr>\n",
       "      <td>84487</td>\n",
       "      <td>HKQuantityTypeIdentifierRestingHeartRate</td>\n",
       "      <td>Yu’s Apple Watch</td>\n",
       "      <td>count/min</td>\n",
       "      <td>2019-09-04 22:59:40-08:00</td>\n",
       "      <td>2019-09-03 23:06:44-08:00</td>\n",
       "      <td>2019-09-04 22:58:19-08:00</td>\n",
       "      <td>53.0</td>\n",
       "    </tr>\n",
       "    <tr>\n",
       "      <td>84488</td>\n",
       "      <td>HKQuantityTypeIdentifierRestingHeartRate</td>\n",
       "      <td>Yu’s Apple Watch</td>\n",
       "      <td>count/min</td>\n",
       "      <td>2019-09-05 08:09:16-08:00</td>\n",
       "      <td>2019-09-04 23:08:00-08:00</td>\n",
       "      <td>2019-09-05 08:04:10-08:00</td>\n",
       "      <td>54.0</td>\n",
       "    </tr>\n",
       "    <tr>\n",
       "      <td>84489</td>\n",
       "      <td>HKQuantityTypeIdentifierRestingHeartRate</td>\n",
       "      <td>Yu’s Apple Watch</td>\n",
       "      <td>count/min</td>\n",
       "      <td>2019-09-06 18:50:01-08:00</td>\n",
       "      <td>2019-09-05 23:03:38-08:00</td>\n",
       "      <td>2019-09-06 18:43:36-08:00</td>\n",
       "      <td>53.0</td>\n",
       "    </tr>\n",
       "    <tr>\n",
       "      <td>84490</td>\n",
       "      <td>HKQuantityTypeIdentifierRestingHeartRate</td>\n",
       "      <td>Yu’s Apple Watch</td>\n",
       "      <td>count/min</td>\n",
       "      <td>2019-09-07 16:38:49-08:00</td>\n",
       "      <td>2019-09-06 23:16:19-08:00</td>\n",
       "      <td>2019-09-07 16:36:26-08:00</td>\n",
       "      <td>54.0</td>\n",
       "    </tr>\n",
       "    <tr>\n",
       "      <td>84491</td>\n",
       "      <td>HKQuantityTypeIdentifierRestingHeartRate</td>\n",
       "      <td>Yu’s Apple Watch</td>\n",
       "      <td>count/min</td>\n",
       "      <td>2019-09-08 10:23:32-08:00</td>\n",
       "      <td>2019-09-07 23:47:03-08:00</td>\n",
       "      <td>2019-09-08 10:23:03-08:00</td>\n",
       "      <td>51.0</td>\n",
       "    </tr>\n",
       "  </tbody>\n",
       "</table>\n",
       "</div>"
      ],
      "text/plain": [
       "                                           type        sourceName       unit  \\\n",
       "84482  HKQuantityTypeIdentifierRestingHeartRate  Yu’s Apple Watch  count/min   \n",
       "84483  HKQuantityTypeIdentifierRestingHeartRate  Yu’s Apple Watch  count/min   \n",
       "84484  HKQuantityTypeIdentifierRestingHeartRate  Yu’s Apple Watch  count/min   \n",
       "84485  HKQuantityTypeIdentifierRestingHeartRate  Yu’s Apple Watch  count/min   \n",
       "84486  HKQuantityTypeIdentifierRestingHeartRate  Yu’s Apple Watch  count/min   \n",
       "84487  HKQuantityTypeIdentifierRestingHeartRate  Yu’s Apple Watch  count/min   \n",
       "84488  HKQuantityTypeIdentifierRestingHeartRate  Yu’s Apple Watch  count/min   \n",
       "84489  HKQuantityTypeIdentifierRestingHeartRate  Yu’s Apple Watch  count/min   \n",
       "84490  HKQuantityTypeIdentifierRestingHeartRate  Yu’s Apple Watch  count/min   \n",
       "84491  HKQuantityTypeIdentifierRestingHeartRate  Yu’s Apple Watch  count/min   \n",
       "\n",
       "                   creationDate                 startDate  \\\n",
       "84482 2019-08-30 22:44:47-08:00 2019-08-29 23:04:37-08:00   \n",
       "84483 2019-08-31 12:54:55-08:00 2019-08-30 23:00:38-08:00   \n",
       "84484 2019-09-01 19:58:45-08:00 2019-08-31 23:02:07-08:00   \n",
       "84485 2019-09-02 20:58:46-08:00 2019-09-01 23:24:49-08:00   \n",
       "84486 2019-09-03 20:50:01-08:00 2019-09-02 23:00:12-08:00   \n",
       "84487 2019-09-04 22:59:40-08:00 2019-09-03 23:06:44-08:00   \n",
       "84488 2019-09-05 08:09:16-08:00 2019-09-04 23:08:00-08:00   \n",
       "84489 2019-09-06 18:50:01-08:00 2019-09-05 23:03:38-08:00   \n",
       "84490 2019-09-07 16:38:49-08:00 2019-09-06 23:16:19-08:00   \n",
       "84491 2019-09-08 10:23:32-08:00 2019-09-07 23:47:03-08:00   \n",
       "\n",
       "                        endDate  value  \n",
       "84482 2019-08-30 22:41:00-08:00   57.0  \n",
       "84483 2019-08-31 12:48:43-08:00   51.0  \n",
       "84484 2019-09-01 19:51:54-08:00   54.0  \n",
       "84485 2019-09-02 20:58:24-08:00   48.0  \n",
       "84486 2019-09-03 20:43:50-08:00   50.0  \n",
       "84487 2019-09-04 22:58:19-08:00   53.0  \n",
       "84488 2019-09-05 08:04:10-08:00   54.0  \n",
       "84489 2019-09-06 18:43:36-08:00   53.0  \n",
       "84490 2019-09-07 16:36:26-08:00   54.0  \n",
       "84491 2019-09-08 10:23:03-08:00   51.0  "
      ]
     },
     "execution_count": 17,
     "metadata": {},
     "output_type": "execute_result"
    }
   ],
   "source": [
    "resting_heart_rate.head(10)"
   ]
  },
  {
   "cell_type": "code",
   "execution_count": 18,
   "metadata": {},
   "outputs": [
    {
     "name": "stdout",
     "output_type": "stream",
     "text": [
      "74.64912456140351\n"
     ]
    },
    {
     "data": {
      "text/html": [
       "<div>\n",
       "<style scoped>\n",
       "    .dataframe tbody tr th:only-of-type {\n",
       "        vertical-align: middle;\n",
       "    }\n",
       "\n",
       "    .dataframe tbody tr th {\n",
       "        vertical-align: top;\n",
       "    }\n",
       "\n",
       "    .dataframe thead th {\n",
       "        text-align: right;\n",
       "    }\n",
       "</style>\n",
       "<table border=\"1\" class=\"dataframe\">\n",
       "  <thead>\n",
       "    <tr style=\"text-align: right;\">\n",
       "      <th></th>\n",
       "      <th>type</th>\n",
       "      <th>sourceName</th>\n",
       "      <th>unit</th>\n",
       "      <th>creationDate</th>\n",
       "      <th>startDate</th>\n",
       "      <th>endDate</th>\n",
       "      <th>value</th>\n",
       "    </tr>\n",
       "  </thead>\n",
       "  <tbody>\n",
       "    <tr>\n",
       "      <td>39</td>\n",
       "      <td>HKQuantityTypeIdentifierHeartRate</td>\n",
       "      <td>Yu’s Apple Watch</td>\n",
       "      <td>count/min</td>\n",
       "      <td>2019-08-29 23:05:28-08:00</td>\n",
       "      <td>2019-08-29 23:04:37-08:00</td>\n",
       "      <td>2019-08-29 23:04:37-08:00</td>\n",
       "      <td>79.0</td>\n",
       "    </tr>\n",
       "    <tr>\n",
       "      <td>40</td>\n",
       "      <td>HKQuantityTypeIdentifierHeartRate</td>\n",
       "      <td>Yu’s Apple Watch</td>\n",
       "      <td>count/min</td>\n",
       "      <td>2019-08-30 07:30:04-08:00</td>\n",
       "      <td>2019-08-29 23:06:53-08:00</td>\n",
       "      <td>2019-08-29 23:06:53-08:00</td>\n",
       "      <td>75.0</td>\n",
       "    </tr>\n",
       "    <tr>\n",
       "      <td>41</td>\n",
       "      <td>HKQuantityTypeIdentifierHeartRate</td>\n",
       "      <td>Yu’s Apple Watch</td>\n",
       "      <td>count/min</td>\n",
       "      <td>2019-08-30 07:46:02-08:00</td>\n",
       "      <td>2019-08-30 07:44:10-08:00</td>\n",
       "      <td>2019-08-30 07:44:10-08:00</td>\n",
       "      <td>78.0</td>\n",
       "    </tr>\n",
       "    <tr>\n",
       "      <td>42</td>\n",
       "      <td>HKQuantityTypeIdentifierHeartRate</td>\n",
       "      <td>Yu’s Apple Watch</td>\n",
       "      <td>count/min</td>\n",
       "      <td>2019-08-30 07:53:48-08:00</td>\n",
       "      <td>2019-08-30 07:48:46-08:00</td>\n",
       "      <td>2019-08-30 07:48:46-08:00</td>\n",
       "      <td>79.0</td>\n",
       "    </tr>\n",
       "    <tr>\n",
       "      <td>43</td>\n",
       "      <td>HKQuantityTypeIdentifierHeartRate</td>\n",
       "      <td>Yu’s Apple Watch</td>\n",
       "      <td>count/min</td>\n",
       "      <td>2019-08-30 07:55:42-08:00</td>\n",
       "      <td>2019-08-30 07:52:16-08:00</td>\n",
       "      <td>2019-08-30 07:52:16-08:00</td>\n",
       "      <td>81.0</td>\n",
       "    </tr>\n",
       "    <tr>\n",
       "      <td>...</td>\n",
       "      <td>...</td>\n",
       "      <td>...</td>\n",
       "      <td>...</td>\n",
       "      <td>...</td>\n",
       "      <td>...</td>\n",
       "      <td>...</td>\n",
       "      <td>...</td>\n",
       "    </tr>\n",
       "    <tr>\n",
       "      <td>262</td>\n",
       "      <td>HKQuantityTypeIdentifierHeartRate</td>\n",
       "      <td>Yu’s Apple Watch</td>\n",
       "      <td>count/min</td>\n",
       "      <td>2019-08-30 22:19:27-08:00</td>\n",
       "      <td>2019-08-30 22:14:02-08:00</td>\n",
       "      <td>2019-08-30 22:14:02-08:00</td>\n",
       "      <td>77.0</td>\n",
       "    </tr>\n",
       "    <tr>\n",
       "      <td>263</td>\n",
       "      <td>HKQuantityTypeIdentifierHeartRate</td>\n",
       "      <td>Yu’s Apple Watch</td>\n",
       "      <td>count/min</td>\n",
       "      <td>2019-08-30 22:26:25-08:00</td>\n",
       "      <td>2019-08-30 22:20:02-08:00</td>\n",
       "      <td>2019-08-30 22:20:02-08:00</td>\n",
       "      <td>66.0</td>\n",
       "    </tr>\n",
       "    <tr>\n",
       "      <td>264</td>\n",
       "      <td>HKQuantityTypeIdentifierHeartRate</td>\n",
       "      <td>Yu’s Apple Watch</td>\n",
       "      <td>count/min</td>\n",
       "      <td>2019-08-30 22:29:46-08:00</td>\n",
       "      <td>2019-08-30 22:26:23-08:00</td>\n",
       "      <td>2019-08-30 22:26:23-08:00</td>\n",
       "      <td>55.0</td>\n",
       "    </tr>\n",
       "    <tr>\n",
       "      <td>265</td>\n",
       "      <td>HKQuantityTypeIdentifierHeartRate</td>\n",
       "      <td>Yu’s Apple Watch</td>\n",
       "      <td>count/min</td>\n",
       "      <td>2019-08-30 22:34:21-08:00</td>\n",
       "      <td>2019-08-30 22:30:15-08:00</td>\n",
       "      <td>2019-08-30 22:30:15-08:00</td>\n",
       "      <td>58.0</td>\n",
       "    </tr>\n",
       "    <tr>\n",
       "      <td>266</td>\n",
       "      <td>HKQuantityTypeIdentifierHeartRate</td>\n",
       "      <td>Yu’s Apple Watch</td>\n",
       "      <td>count/min</td>\n",
       "      <td>2019-08-30 22:39:23-08:00</td>\n",
       "      <td>2019-08-30 22:34:09-08:00</td>\n",
       "      <td>2019-08-30 22:34:09-08:00</td>\n",
       "      <td>59.0</td>\n",
       "    </tr>\n",
       "  </tbody>\n",
       "</table>\n",
       "<p>228 rows × 7 columns</p>\n",
       "</div>"
      ],
      "text/plain": [
       "                                  type        sourceName       unit  \\\n",
       "39   HKQuantityTypeIdentifierHeartRate  Yu’s Apple Watch  count/min   \n",
       "40   HKQuantityTypeIdentifierHeartRate  Yu’s Apple Watch  count/min   \n",
       "41   HKQuantityTypeIdentifierHeartRate  Yu’s Apple Watch  count/min   \n",
       "42   HKQuantityTypeIdentifierHeartRate  Yu’s Apple Watch  count/min   \n",
       "43   HKQuantityTypeIdentifierHeartRate  Yu’s Apple Watch  count/min   \n",
       "..                                 ...               ...        ...   \n",
       "262  HKQuantityTypeIdentifierHeartRate  Yu’s Apple Watch  count/min   \n",
       "263  HKQuantityTypeIdentifierHeartRate  Yu’s Apple Watch  count/min   \n",
       "264  HKQuantityTypeIdentifierHeartRate  Yu’s Apple Watch  count/min   \n",
       "265  HKQuantityTypeIdentifierHeartRate  Yu’s Apple Watch  count/min   \n",
       "266  HKQuantityTypeIdentifierHeartRate  Yu’s Apple Watch  count/min   \n",
       "\n",
       "                 creationDate                 startDate  \\\n",
       "39  2019-08-29 23:05:28-08:00 2019-08-29 23:04:37-08:00   \n",
       "40  2019-08-30 07:30:04-08:00 2019-08-29 23:06:53-08:00   \n",
       "41  2019-08-30 07:46:02-08:00 2019-08-30 07:44:10-08:00   \n",
       "42  2019-08-30 07:53:48-08:00 2019-08-30 07:48:46-08:00   \n",
       "43  2019-08-30 07:55:42-08:00 2019-08-30 07:52:16-08:00   \n",
       "..                        ...                       ...   \n",
       "262 2019-08-30 22:19:27-08:00 2019-08-30 22:14:02-08:00   \n",
       "263 2019-08-30 22:26:25-08:00 2019-08-30 22:20:02-08:00   \n",
       "264 2019-08-30 22:29:46-08:00 2019-08-30 22:26:23-08:00   \n",
       "265 2019-08-30 22:34:21-08:00 2019-08-30 22:30:15-08:00   \n",
       "266 2019-08-30 22:39:23-08:00 2019-08-30 22:34:09-08:00   \n",
       "\n",
       "                      endDate  value  \n",
       "39  2019-08-29 23:04:37-08:00   79.0  \n",
       "40  2019-08-29 23:06:53-08:00   75.0  \n",
       "41  2019-08-30 07:44:10-08:00   78.0  \n",
       "42  2019-08-30 07:48:46-08:00   79.0  \n",
       "43  2019-08-30 07:52:16-08:00   81.0  \n",
       "..                        ...    ...  \n",
       "262 2019-08-30 22:14:02-08:00   77.0  \n",
       "263 2019-08-30 22:20:02-08:00   66.0  \n",
       "264 2019-08-30 22:26:23-08:00   55.0  \n",
       "265 2019-08-30 22:30:15-08:00   58.0  \n",
       "266 2019-08-30 22:34:09-08:00   59.0  \n",
       "\n",
       "[228 rows x 7 columns]"
      ]
     },
     "execution_count": 18,
     "metadata": {},
     "output_type": "execute_result"
    }
   ],
   "source": [
    "# let's try to find the corresponding record from 2019-08-29 23:04:37-08:00 to 2019-08-30 22:41:00-08:00 in HeartRate\n",
    "heart_rate_sub = heart_rate[(heart_rate['startDate'] >= '2019-08-29 23:04:37-08:00') & \n",
    "                           (heart_rate['startDate'] < '2019-08-30 22:41:00-08:00')]\n",
    "print(heart_rate_sub['value'].mean())\n",
    "\n",
    "heart_rate_sub"
   ]
  },
  {
   "cell_type": "code",
   "execution_count": 19,
   "metadata": {},
   "outputs": [
    {
     "name": "stdout",
     "output_type": "stream",
     "text": [
      "96.0\n"
     ]
    },
    {
     "data": {
      "text/html": [
       "<div>\n",
       "<style scoped>\n",
       "    .dataframe tbody tr th:only-of-type {\n",
       "        vertical-align: middle;\n",
       "    }\n",
       "\n",
       "    .dataframe tbody tr th {\n",
       "        vertical-align: top;\n",
       "    }\n",
       "\n",
       "    .dataframe thead th {\n",
       "        text-align: right;\n",
       "    }\n",
       "</style>\n",
       "<table border=\"1\" class=\"dataframe\">\n",
       "  <thead>\n",
       "    <tr style=\"text-align: right;\">\n",
       "      <th></th>\n",
       "      <th>type</th>\n",
       "      <th>sourceName</th>\n",
       "      <th>unit</th>\n",
       "      <th>creationDate</th>\n",
       "      <th>startDate</th>\n",
       "      <th>endDate</th>\n",
       "      <th>value</th>\n",
       "    </tr>\n",
       "  </thead>\n",
       "  <tbody>\n",
       "    <tr>\n",
       "      <td>84660</td>\n",
       "      <td>HKQuantityTypeIdentifierWalkingHeartRateAverage</td>\n",
       "      <td>Yu’s Apple Watch</td>\n",
       "      <td>count/min</td>\n",
       "      <td>2019-08-30 15:40:57-08:00</td>\n",
       "      <td>2019-08-29 23:04:37-08:00</td>\n",
       "      <td>2019-08-30 15:40:53-08:00</td>\n",
       "      <td>96.0</td>\n",
       "    </tr>\n",
       "  </tbody>\n",
       "</table>\n",
       "</div>"
      ],
      "text/plain": [
       "                                                  type        sourceName  \\\n",
       "84660  HKQuantityTypeIdentifierWalkingHeartRateAverage  Yu’s Apple Watch   \n",
       "\n",
       "            unit              creationDate                 startDate  \\\n",
       "84660  count/min 2019-08-30 15:40:57-08:00 2019-08-29 23:04:37-08:00   \n",
       "\n",
       "                        endDate  value  \n",
       "84660 2019-08-30 15:40:53-08:00   96.0  "
      ]
     },
     "execution_count": 19,
     "metadata": {},
     "output_type": "execute_result"
    }
   ],
   "source": [
    "# is there corresponding records in walking heart rate dataset as well?\n",
    "walking_heart_rate_sub = walking_heart_rate[(walking_heart_rate['startDate'] >= '2019-08-29 23:04:37-08:00') & \n",
    "                                            (walking_heart_rate['startDate'] < '2019-08-30 22:41:00-08:00')]\n",
    "print(walking_heart_rate_sub['value'].mean())\n",
    "\n",
    "walking_heart_rate_sub.head()"
   ]
  },
  {
   "cell_type": "markdown",
   "metadata": {},
   "source": [
    "### Q3: Explore HeartRate Data -- Heart rate difference between day/night, weekday/weekend, etc."
   ]
  },
  {
   "cell_type": "markdown",
   "metadata": {},
   "source": [
    "Key Insights:  \n",
    "1. Though the trend seems indicating that my avg heart rate has increased dramatically since Nov, this is NOT TRUE (well, otherwise it's scary)!!! This is mainly due to the fact that during workouts, much more heart rate data points were recorded;  \n",
    "2. My average heart rate is obviously much higher at night around 20-22 PM, which is consistent with my regular workout time;  \n",
    "3. From the heart rate heatmap, you can also tell that I sleep later on weekends and also get up later...  "
   ]
  },
  {
   "cell_type": "code",
   "execution_count": 20,
   "metadata": {},
   "outputs": [
    {
     "data": {
      "text/html": [
       "<div>\n",
       "<style scoped>\n",
       "    .dataframe tbody tr th:only-of-type {\n",
       "        vertical-align: middle;\n",
       "    }\n",
       "\n",
       "    .dataframe tbody tr th {\n",
       "        vertical-align: top;\n",
       "    }\n",
       "\n",
       "    .dataframe thead th {\n",
       "        text-align: right;\n",
       "    }\n",
       "</style>\n",
       "<table border=\"1\" class=\"dataframe\">\n",
       "  <thead>\n",
       "    <tr style=\"text-align: right;\">\n",
       "      <th></th>\n",
       "      <th>startDate</th>\n",
       "      <th>value</th>\n",
       "    </tr>\n",
       "  </thead>\n",
       "  <tbody>\n",
       "    <tr>\n",
       "      <td>0</td>\n",
       "      <td>2019-08-29 19:45:14-08:00</td>\n",
       "      <td>93.0</td>\n",
       "    </tr>\n",
       "    <tr>\n",
       "      <td>1</td>\n",
       "      <td>2019-08-29 19:47:20-08:00</td>\n",
       "      <td>89.0</td>\n",
       "    </tr>\n",
       "    <tr>\n",
       "      <td>2</td>\n",
       "      <td>2019-08-29 19:53:11-08:00</td>\n",
       "      <td>87.0</td>\n",
       "    </tr>\n",
       "    <tr>\n",
       "      <td>3</td>\n",
       "      <td>2019-08-29 19:57:39-08:00</td>\n",
       "      <td>78.0</td>\n",
       "    </tr>\n",
       "    <tr>\n",
       "      <td>4</td>\n",
       "      <td>2019-08-29 20:03:24-08:00</td>\n",
       "      <td>84.0</td>\n",
       "    </tr>\n",
       "  </tbody>\n",
       "</table>\n",
       "</div>"
      ],
      "text/plain": [
       "                  startDate  value\n",
       "0 2019-08-29 19:45:14-08:00   93.0\n",
       "1 2019-08-29 19:47:20-08:00   89.0\n",
       "2 2019-08-29 19:53:11-08:00   87.0\n",
       "3 2019-08-29 19:57:39-08:00   78.0\n",
       "4 2019-08-29 20:03:24-08:00   84.0"
      ]
     },
     "execution_count": 20,
     "metadata": {},
     "output_type": "execute_result"
    }
   ],
   "source": [
    "# Let's only look at those heart rate records on second level (with equal startdate and enddate)\n",
    "heart_rate = heart_rate_df[(heart_rate_df['startDate'] == heart_rate_df['endDate']) & \n",
    "              (heart_rate_df['type'] == 'HKQuantityTypeIdentifierHeartRate')].iloc[:,[4,6]]\n",
    "heart_rate.head()"
   ]
  },
  {
   "cell_type": "code",
   "execution_count": 21,
   "metadata": {},
   "outputs": [
    {
     "data": {
      "text/html": [
       "<div>\n",
       "<style scoped>\n",
       "    .dataframe tbody tr th:only-of-type {\n",
       "        vertical-align: middle;\n",
       "    }\n",
       "\n",
       "    .dataframe tbody tr th {\n",
       "        vertical-align: top;\n",
       "    }\n",
       "\n",
       "    .dataframe thead th {\n",
       "        text-align: right;\n",
       "    }\n",
       "</style>\n",
       "<table border=\"1\" class=\"dataframe\">\n",
       "  <thead>\n",
       "    <tr style=\"text-align: right;\">\n",
       "      <th></th>\n",
       "      <th>startDate</th>\n",
       "      <th>value</th>\n",
       "      <th>startHour</th>\n",
       "      <th>startDay</th>\n",
       "      <th>id_weekday</th>\n",
       "      <th>id_hour</th>\n",
       "    </tr>\n",
       "  </thead>\n",
       "  <tbody>\n",
       "    <tr>\n",
       "      <td>0</td>\n",
       "      <td>2019-08-29 19:45:14-08:00</td>\n",
       "      <td>93.0</td>\n",
       "      <td>2019-08-29 19:00:00-08:00</td>\n",
       "      <td>2019-08-29 00:00:00-08:00</td>\n",
       "      <td>Thursday</td>\n",
       "      <td>19</td>\n",
       "    </tr>\n",
       "    <tr>\n",
       "      <td>1</td>\n",
       "      <td>2019-08-29 19:47:20-08:00</td>\n",
       "      <td>89.0</td>\n",
       "      <td>2019-08-29 19:00:00-08:00</td>\n",
       "      <td>2019-08-29 00:00:00-08:00</td>\n",
       "      <td>Thursday</td>\n",
       "      <td>19</td>\n",
       "    </tr>\n",
       "    <tr>\n",
       "      <td>2</td>\n",
       "      <td>2019-08-29 19:53:11-08:00</td>\n",
       "      <td>87.0</td>\n",
       "      <td>2019-08-29 19:00:00-08:00</td>\n",
       "      <td>2019-08-29 00:00:00-08:00</td>\n",
       "      <td>Thursday</td>\n",
       "      <td>19</td>\n",
       "    </tr>\n",
       "    <tr>\n",
       "      <td>3</td>\n",
       "      <td>2019-08-29 19:57:39-08:00</td>\n",
       "      <td>78.0</td>\n",
       "      <td>2019-08-29 19:00:00-08:00</td>\n",
       "      <td>2019-08-29 00:00:00-08:00</td>\n",
       "      <td>Thursday</td>\n",
       "      <td>19</td>\n",
       "    </tr>\n",
       "    <tr>\n",
       "      <td>4</td>\n",
       "      <td>2019-08-29 20:03:24-08:00</td>\n",
       "      <td>84.0</td>\n",
       "      <td>2019-08-29 20:00:00-08:00</td>\n",
       "      <td>2019-08-29 00:00:00-08:00</td>\n",
       "      <td>Thursday</td>\n",
       "      <td>20</td>\n",
       "    </tr>\n",
       "  </tbody>\n",
       "</table>\n",
       "</div>"
      ],
      "text/plain": [
       "                  startDate  value                 startHour  \\\n",
       "0 2019-08-29 19:45:14-08:00   93.0 2019-08-29 19:00:00-08:00   \n",
       "1 2019-08-29 19:47:20-08:00   89.0 2019-08-29 19:00:00-08:00   \n",
       "2 2019-08-29 19:53:11-08:00   87.0 2019-08-29 19:00:00-08:00   \n",
       "3 2019-08-29 19:57:39-08:00   78.0 2019-08-29 19:00:00-08:00   \n",
       "4 2019-08-29 20:03:24-08:00   84.0 2019-08-29 20:00:00-08:00   \n",
       "\n",
       "                   startDay id_weekday id_hour  \n",
       "0 2019-08-29 00:00:00-08:00   Thursday      19  \n",
       "1 2019-08-29 00:00:00-08:00   Thursday      19  \n",
       "2 2019-08-29 00:00:00-08:00   Thursday      19  \n",
       "3 2019-08-29 00:00:00-08:00   Thursday      19  \n",
       "4 2019-08-29 00:00:00-08:00   Thursday      20  "
      ]
     },
     "execution_count": 21,
     "metadata": {},
     "output_type": "execute_result"
    }
   ],
   "source": [
    "# generate more time columns\n",
    "heart_rate['startHour'] = heart_rate['startDate'].dt.floor('h')\n",
    "heart_rate['startDay'] = heart_rate['startDate'].dt.floor('D')\n",
    "heart_rate['id_weekday'] = heart_rate['startDate'].dt.weekday_name\n",
    "heart_rate['id_hour'] = heart_rate['startDate'].dt.hour\n",
    "\n",
    "heart_rate['id_weekday'] = pd.Categorical(heart_rate['id_weekday'],\n",
    "                                          categories=['Monday', 'Tuesday', 'Wednesday', \n",
    "                                                      'Thursday', 'Friday', 'Saturday', 'Sunday'],\n",
    "                                          ordered=True)\n",
    "heart_rate['id_hour'] = heart_rate['id_hour'].astype('object')\n",
    "\n",
    "\n",
    "heart_rate.head()"
   ]
  },
  {
   "cell_type": "code",
   "execution_count": 22,
   "metadata": {},
   "outputs": [
    {
     "data": {
      "text/plain": [
       "count    84352.000000\n",
       "mean        90.106535\n",
       "std         22.844077\n",
       "min         44.000000\n",
       "25%         72.000000\n",
       "50%         86.000000\n",
       "75%        107.000000\n",
       "max        174.000000\n",
       "Name: value, dtype: float64"
      ]
     },
     "execution_count": 22,
     "metadata": {},
     "output_type": "execute_result"
    }
   ],
   "source": [
    "# let's look at the distribution of heart rate value\n",
    "heart_rate['value'].describe()"
   ]
  },
  {
   "cell_type": "code",
   "execution_count": 23,
   "metadata": {},
   "outputs": [
    {
     "name": "stderr",
     "output_type": "stream",
     "text": [
      "/opt/anaconda3/lib/python3.7/site-packages/seaborn/relational.py:792: FutureWarning: Converting timezone-aware DatetimeArray to timezone-naive ndarray with 'datetime64[ns]' dtype. In the future, this will return an ndarray with 'object' dtype where each element is a 'pandas.Timestamp' with the correct 'tz'.\n",
      "\tTo accept the future behavior, pass 'dtype=object'.\n",
      "\tTo keep the old behavior, pass 'dtype=\"datetime64[ns]\"'.\n",
      "  x, y = np.asarray(x), np.asarray(y)\n",
      "/opt/anaconda3/lib/python3.7/site-packages/pandas/plotting/_matplotlib/converter.py:103: FutureWarning: Using an implicitly registered datetime converter for a matplotlib plotting method. The converter was registered by pandas on import. Future versions of pandas will require you to explicitly register matplotlib converters.\n",
      "\n",
      "To register the converters:\n",
      "\t>>> from pandas.plotting import register_matplotlib_converters\n",
      "\t>>> register_matplotlib_converters()\n",
      "  warnings.warn(msg, FutureWarning)\n"
     ]
    },
    {
     "data": {
      "image/png": "[encoded data removed]",
      "text/plain": [
       "<Figure size 432x288 with 1 Axes>"
      ]
     },
     "metadata": {
      "needs_background": "light"
     },
     "output_type": "display_data"
    }
   ],
   "source": [
    "# plot a trendline of daily average heart rate\n",
    "heart_rate_day = heart_rate.groupby('startDay')['value'].agg(avg_heart_rate = 'mean', record_num = 'count').reset_index()\n",
    "ax = sns.lineplot(x = 'startDay', y = 'avg_heart_rate', data = heart_rate_day)\n",
    "ax.set_ylim([0, 180])\n",
    "plt.show()"
   ]
  },
  {
   "cell_type": "code",
   "execution_count": 24,
   "metadata": {},
   "outputs": [
    {
     "data": {
      "text/plain": [
       "<matplotlib.axes._subplots.AxesSubplot at 0x1a16a1f7d0>"
      ]
     },
     "execution_count": 24,
     "metadata": {},
     "output_type": "execute_result"
    },
    {
     "data": {
      "image/png": "[encoded data removed]",
      "text/plain": [
       "<Figure size 432x288 with 1 Axes>"
      ]
     },
     "metadata": {
      "needs_background": "light"
     },
     "output_type": "display_data"
    }
   ],
   "source": [
    "# the average heart rate trend looks pretty weird... let's look at the number of records. \n",
    "# Seems like the higher number of records caused this higher average.\n",
    "# Maybe becuase I increased my workout intensity in Nov thus more high heart rate records were generated? \n",
    "sns.lineplot(x = 'startDay', y = 'record_num', data = heart_rate_day)"
   ]
  },
  {
   "cell_type": "code",
   "execution_count": 25,
   "metadata": {
    "scrolled": false
   },
   "outputs": [
    {
     "data": {
      "image/png": "[encoded data removed]",
      "text/plain": [
       "<Figure size 720x432 with 2 Axes>"
      ]
     },
     "metadata": {
      "needs_background": "light"
     },
     "output_type": "display_data"
    }
   ],
   "source": [
    "# let's put the two charts together\n",
    "# seems like they perfectly aligned :)\n",
    "fig = plt.figure(figsize=(10, 6))\n",
    "ax = sns.lineplot(x = 'startDay', y = 'avg_heart_rate', data = heart_rate_day, \n",
    "                  color = 'g',\n",
    "                  label = 'Average Heart Rate')\n",
    "ax.legend(loc = 1)\n",
    "ax.set_xlabel('Date')\n",
    "ax.set_ylabel('Average Heart Rate')\n",
    "ax2 = plt.twinx()\n",
    "sns.lineplot(x = 'startDay', y = 'record_num', data = heart_rate_day, \n",
    "             color = 'b', ax=ax2, \n",
    "             label = '# of Heart Rate Records')\n",
    "ax2.legend(loc=0)\n",
    "ax2.set_ylabel('# of Heart Rate Records')\n",
    "plt.show()"
   ]
  },
  {
   "cell_type": "code",
   "execution_count": 26,
   "metadata": {},
   "outputs": [
    {
     "data": {
      "image/png": "[encoded data removed]",
      "text/plain": [
       "<Figure size 576x432 with 1 Axes>"
      ]
     },
     "metadata": {
      "needs_background": "light"
     },
     "output_type": "display_data"
    }
   ],
   "source": [
    "# Let's see how heart rate distribution differs between weekday and weekends\n",
    "# well, not much difference seen\n",
    "fig = plt.figure(figsize=(8, 6))\n",
    "ax = sns.boxplot(x = 'id_weekday', y = 'value', data = heart_rate)\n",
    "ax.set_xlabel('Weekday')\n",
    "ax.set_ylabel('Heart Rate')\n",
    "plt.show()"
   ]
  },
  {
   "cell_type": "code",
   "execution_count": 27,
   "metadata": {},
   "outputs": [
    {
     "data": {
      "image/png": "[encoded data removed]",
      "text/plain": [
       "<Figure size 720x432 with 1 Axes>"
      ]
     },
     "metadata": {
      "needs_background": "light"
     },
     "output_type": "display_data"
    }
   ],
   "source": [
    "# And the heart rate distribution between hours? \n",
    "# -- obviously heart rate is much higher during workout time (typically 20-22) and lower during sleep (0-8)\n",
    "fig = plt.figure(figsize=(10, 6))\n",
    "ax = sns.boxplot(x = 'id_hour', y = 'value', data = heart_rate)\n",
    "ax.set_xlabel('Hour')\n",
    "ax.set_ylabel('Heart Rate')\n",
    "plt.show()"
   ]
  },
  {
   "cell_type": "code",
   "execution_count": 28,
   "metadata": {},
   "outputs": [
    {
     "data": {
      "text/html": [
       "<div>\n",
       "<style scoped>\n",
       "    .dataframe tbody tr th:only-of-type {\n",
       "        vertical-align: middle;\n",
       "    }\n",
       "\n",
       "    .dataframe tbody tr th {\n",
       "        vertical-align: top;\n",
       "    }\n",
       "\n",
       "    .dataframe thead th {\n",
       "        text-align: right;\n",
       "    }\n",
       "</style>\n",
       "<table border=\"1\" class=\"dataframe\">\n",
       "  <thead>\n",
       "    <tr style=\"text-align: right;\">\n",
       "      <th></th>\n",
       "      <th>id_hour</th>\n",
       "      <th>id_weekday</th>\n",
       "      <th>avg_heart_rate</th>\n",
       "      <th>record_num</th>\n",
       "    </tr>\n",
       "  </thead>\n",
       "  <tbody>\n",
       "    <tr>\n",
       "      <td>0</td>\n",
       "      <td>0</td>\n",
       "      <td>Monday</td>\n",
       "      <td>70.394891</td>\n",
       "      <td>307</td>\n",
       "    </tr>\n",
       "    <tr>\n",
       "      <td>7</td>\n",
       "      <td>1</td>\n",
       "      <td>Monday</td>\n",
       "      <td>67.679619</td>\n",
       "      <td>306</td>\n",
       "    </tr>\n",
       "    <tr>\n",
       "      <td>14</td>\n",
       "      <td>2</td>\n",
       "      <td>Monday</td>\n",
       "      <td>64.362298</td>\n",
       "      <td>311</td>\n",
       "    </tr>\n",
       "    <tr>\n",
       "      <td>21</td>\n",
       "      <td>3</td>\n",
       "      <td>Monday</td>\n",
       "      <td>62.838384</td>\n",
       "      <td>297</td>\n",
       "    </tr>\n",
       "    <tr>\n",
       "      <td>28</td>\n",
       "      <td>4</td>\n",
       "      <td>Monday</td>\n",
       "      <td>61.598769</td>\n",
       "      <td>309</td>\n",
       "    </tr>\n",
       "    <tr>\n",
       "      <td>...</td>\n",
       "      <td>...</td>\n",
       "      <td>...</td>\n",
       "      <td>...</td>\n",
       "      <td>...</td>\n",
       "    </tr>\n",
       "    <tr>\n",
       "      <td>139</td>\n",
       "      <td>19</td>\n",
       "      <td>Sunday</td>\n",
       "      <td>98.098808</td>\n",
       "      <td>529</td>\n",
       "    </tr>\n",
       "    <tr>\n",
       "      <td>146</td>\n",
       "      <td>20</td>\n",
       "      <td>Sunday</td>\n",
       "      <td>100.816838</td>\n",
       "      <td>912</td>\n",
       "    </tr>\n",
       "    <tr>\n",
       "      <td>153</td>\n",
       "      <td>21</td>\n",
       "      <td>Sunday</td>\n",
       "      <td>114.878855</td>\n",
       "      <td>3659</td>\n",
       "    </tr>\n",
       "    <tr>\n",
       "      <td>160</td>\n",
       "      <td>22</td>\n",
       "      <td>Sunday</td>\n",
       "      <td>107.526018</td>\n",
       "      <td>2139</td>\n",
       "    </tr>\n",
       "    <tr>\n",
       "      <td>167</td>\n",
       "      <td>23</td>\n",
       "      <td>Sunday</td>\n",
       "      <td>89.707372</td>\n",
       "      <td>654</td>\n",
       "    </tr>\n",
       "  </tbody>\n",
       "</table>\n",
       "<p>168 rows × 4 columns</p>\n",
       "</div>"
      ],
      "text/plain": [
       "     id_hour id_weekday  avg_heart_rate  record_num\n",
       "0          0     Monday       70.394891         307\n",
       "7          1     Monday       67.679619         306\n",
       "14         2     Monday       64.362298         311\n",
       "21         3     Monday       62.838384         297\n",
       "28         4     Monday       61.598769         309\n",
       "..       ...        ...             ...         ...\n",
       "139       19     Sunday       98.098808         529\n",
       "146       20     Sunday      100.816838         912\n",
       "153       21     Sunday      114.878855        3659\n",
       "160       22     Sunday      107.526018        2139\n",
       "167       23     Sunday       89.707372         654\n",
       "\n",
       "[168 rows x 4 columns]"
      ]
     },
     "execution_count": 28,
     "metadata": {},
     "output_type": "execute_result"
    }
   ],
   "source": [
    "# next, let's plot a heatmap of avg heart beat by hour and weekday\n",
    "heart_rate_heatmap = heart_rate.groupby(['id_hour', 'id_weekday'])['value'].agg(avg_heart_rate = 'mean', \n",
    "                                                                              record_num = 'count').reset_index()\n",
    "\n",
    "heart_rate_heatmap = heart_rate_heatmap.sort_values(['id_weekday', 'id_hour'])\n",
    "heart_rate_heatmap"
   ]
  },
  {
   "cell_type": "code",
   "execution_count": 29,
   "metadata": {},
   "outputs": [
    {
     "data": {
      "text/plain": [
       "id_hour              int64\n",
       "id_weekday        category\n",
       "avg_heart_rate     float64\n",
       "record_num           int64\n",
       "dtype: object"
      ]
     },
     "execution_count": 29,
     "metadata": {},
     "output_type": "execute_result"
    }
   ],
   "source": [
    "heart_rate_heatmap.dtypes"
   ]
  },
  {
   "cell_type": "code",
   "execution_count": 30,
   "metadata": {},
   "outputs": [
    {
     "data": {
      "image/png": "[encoded data removed]",
      "text/plain": [
       "<Figure size 576x432 with 2 Axes>"
      ]
     },
     "metadata": {
      "needs_background": "light"
     },
     "output_type": "display_data"
    }
   ],
   "source": [
    "# it's pretty clear that my avg heart rate is much higher at night around 20-22 \n",
    "# (as that's the typically time of me woring out)\n",
    "# Another thing you will notice is that I sleep earlier on weekdays, and get up later on weekends...\n",
    "heart_rate_heatmap_plt = heart_rate_heatmap.pivot(\"id_hour\", \"id_weekday\", \"avg_heart_rate\")\n",
    "fig = plt.figure(figsize=(8, 6))\n",
    "ax = sns.heatmap(heart_rate_heatmap_plt)\n",
    "ax.set_xlabel('Weekday')\n",
    "ax.set_ylabel('Hour')\n",
    "plt.show()"
   ]
  },
  {
   "cell_type": "code",
   "execution_count": 31,
   "metadata": {},
   "outputs": [
    {
     "data": {
      "image/png": "[encoded data removed]",
      "text/plain": [
       "<Figure size 576x432 with 2 Axes>"
      ]
     },
     "metadata": {
      "needs_background": "light"
     },
     "output_type": "display_data"
    }
   ],
   "source": [
    "# we can also examine the assumption that more data points are recorded during workout with a heatmap\n",
    "# this plot appear to be very extreme as much much more data points during workout recorded...\n",
    "heart_rate_heatmap_plt = heart_rate_heatmap.pivot(\"id_hour\", \"id_weekday\", \"record_num\")\n",
    "fig = plt.figure(figsize=(8, 6))\n",
    "ax = sns.heatmap(heart_rate_heatmap_plt)\n",
    "ax.set_xlabel('Weekday')\n",
    "ax.set_ylabel('Hour')\n",
    "plt.show()"
   ]
  },
  {
   "cell_type": "markdown",
   "metadata": {},
   "source": [
    "### Q4 - Explore RestingHeartRate and WalkingHeartRate Data -- How are they distributed and how different they are?"
   ]
  },
  {
   "cell_type": "markdown",
   "metadata": {},
   "source": [
    "Both my resting heart and rate walking heart rate roughly follow normal distributions, with the average resting heart rate of 57 and average walking heart rate of 104. The standard deviation of walking heart rate is larger than the resting walking heart which makes sense -- your heart rate definitely fluctuate more during walking...  "
   ]
  },
  {
   "cell_type": "markdown",
   "metadata": {},
   "source": [
    "**Resting Heart Rate**"
   ]
  },
  {
   "cell_type": "code",
   "execution_count": 32,
   "metadata": {},
   "outputs": [
    {
     "data": {
      "text/html": [
       "<div>\n",
       "<style scoped>\n",
       "    .dataframe tbody tr th:only-of-type {\n",
       "        vertical-align: middle;\n",
       "    }\n",
       "\n",
       "    .dataframe tbody tr th {\n",
       "        vertical-align: top;\n",
       "    }\n",
       "\n",
       "    .dataframe thead th {\n",
       "        text-align: right;\n",
       "    }\n",
       "</style>\n",
       "<table border=\"1\" class=\"dataframe\">\n",
       "  <thead>\n",
       "    <tr style=\"text-align: right;\">\n",
       "      <th></th>\n",
       "      <th>startDate</th>\n",
       "      <th>value</th>\n",
       "      <th>startHour</th>\n",
       "      <th>startDay</th>\n",
       "      <th>id_weekday</th>\n",
       "      <th>id_hour</th>\n",
       "    </tr>\n",
       "  </thead>\n",
       "  <tbody>\n",
       "    <tr>\n",
       "      <td>84482</td>\n",
       "      <td>2019-08-29 23:04:37-08:00</td>\n",
       "      <td>57.0</td>\n",
       "      <td>2019-08-29 23:00:00-08:00</td>\n",
       "      <td>2019-08-29 00:00:00-08:00</td>\n",
       "      <td>Thursday</td>\n",
       "      <td>23</td>\n",
       "    </tr>\n",
       "    <tr>\n",
       "      <td>84483</td>\n",
       "      <td>2019-08-30 23:00:38-08:00</td>\n",
       "      <td>51.0</td>\n",
       "      <td>2019-08-30 23:00:00-08:00</td>\n",
       "      <td>2019-08-30 00:00:00-08:00</td>\n",
       "      <td>Friday</td>\n",
       "      <td>23</td>\n",
       "    </tr>\n",
       "    <tr>\n",
       "      <td>84484</td>\n",
       "      <td>2019-08-31 23:02:07-08:00</td>\n",
       "      <td>54.0</td>\n",
       "      <td>2019-08-31 23:00:00-08:00</td>\n",
       "      <td>2019-08-31 00:00:00-08:00</td>\n",
       "      <td>Saturday</td>\n",
       "      <td>23</td>\n",
       "    </tr>\n",
       "    <tr>\n",
       "      <td>84485</td>\n",
       "      <td>2019-09-01 23:24:49-08:00</td>\n",
       "      <td>48.0</td>\n",
       "      <td>2019-09-01 23:00:00-08:00</td>\n",
       "      <td>2019-09-01 00:00:00-08:00</td>\n",
       "      <td>Sunday</td>\n",
       "      <td>23</td>\n",
       "    </tr>\n",
       "    <tr>\n",
       "      <td>84486</td>\n",
       "      <td>2019-09-02 23:00:12-08:00</td>\n",
       "      <td>50.0</td>\n",
       "      <td>2019-09-02 23:00:00-08:00</td>\n",
       "      <td>2019-09-02 00:00:00-08:00</td>\n",
       "      <td>Monday</td>\n",
       "      <td>23</td>\n",
       "    </tr>\n",
       "    <tr>\n",
       "      <td>84487</td>\n",
       "      <td>2019-09-03 23:06:44-08:00</td>\n",
       "      <td>53.0</td>\n",
       "      <td>2019-09-03 23:00:00-08:00</td>\n",
       "      <td>2019-09-03 00:00:00-08:00</td>\n",
       "      <td>Tuesday</td>\n",
       "      <td>23</td>\n",
       "    </tr>\n",
       "    <tr>\n",
       "      <td>84488</td>\n",
       "      <td>2019-09-04 23:08:00-08:00</td>\n",
       "      <td>54.0</td>\n",
       "      <td>2019-09-04 23:00:00-08:00</td>\n",
       "      <td>2019-09-04 00:00:00-08:00</td>\n",
       "      <td>Wednesday</td>\n",
       "      <td>23</td>\n",
       "    </tr>\n",
       "    <tr>\n",
       "      <td>84489</td>\n",
       "      <td>2019-09-05 23:03:38-08:00</td>\n",
       "      <td>53.0</td>\n",
       "      <td>2019-09-05 23:00:00-08:00</td>\n",
       "      <td>2019-09-05 00:00:00-08:00</td>\n",
       "      <td>Thursday</td>\n",
       "      <td>23</td>\n",
       "    </tr>\n",
       "    <tr>\n",
       "      <td>84490</td>\n",
       "      <td>2019-09-06 23:16:19-08:00</td>\n",
       "      <td>54.0</td>\n",
       "      <td>2019-09-06 23:00:00-08:00</td>\n",
       "      <td>2019-09-06 00:00:00-08:00</td>\n",
       "      <td>Friday</td>\n",
       "      <td>23</td>\n",
       "    </tr>\n",
       "    <tr>\n",
       "      <td>84491</td>\n",
       "      <td>2019-09-07 23:47:03-08:00</td>\n",
       "      <td>51.0</td>\n",
       "      <td>2019-09-07 23:00:00-08:00</td>\n",
       "      <td>2019-09-07 00:00:00-08:00</td>\n",
       "      <td>Saturday</td>\n",
       "      <td>23</td>\n",
       "    </tr>\n",
       "  </tbody>\n",
       "</table>\n",
       "</div>"
      ],
      "text/plain": [
       "                      startDate  value                 startHour  \\\n",
       "84482 2019-08-29 23:04:37-08:00   57.0 2019-08-29 23:00:00-08:00   \n",
       "84483 2019-08-30 23:00:38-08:00   51.0 2019-08-30 23:00:00-08:00   \n",
       "84484 2019-08-31 23:02:07-08:00   54.0 2019-08-31 23:00:00-08:00   \n",
       "84485 2019-09-01 23:24:49-08:00   48.0 2019-09-01 23:00:00-08:00   \n",
       "84486 2019-09-02 23:00:12-08:00   50.0 2019-09-02 23:00:00-08:00   \n",
       "84487 2019-09-03 23:06:44-08:00   53.0 2019-09-03 23:00:00-08:00   \n",
       "84488 2019-09-04 23:08:00-08:00   54.0 2019-09-04 23:00:00-08:00   \n",
       "84489 2019-09-05 23:03:38-08:00   53.0 2019-09-05 23:00:00-08:00   \n",
       "84490 2019-09-06 23:16:19-08:00   54.0 2019-09-06 23:00:00-08:00   \n",
       "84491 2019-09-07 23:47:03-08:00   51.0 2019-09-07 23:00:00-08:00   \n",
       "\n",
       "                       startDay id_weekday id_hour  \n",
       "84482 2019-08-29 00:00:00-08:00   Thursday      23  \n",
       "84483 2019-08-30 00:00:00-08:00     Friday      23  \n",
       "84484 2019-08-31 00:00:00-08:00   Saturday      23  \n",
       "84485 2019-09-01 00:00:00-08:00     Sunday      23  \n",
       "84486 2019-09-02 00:00:00-08:00     Monday      23  \n",
       "84487 2019-09-03 00:00:00-08:00    Tuesday      23  \n",
       "84488 2019-09-04 00:00:00-08:00  Wednesday      23  \n",
       "84489 2019-09-05 00:00:00-08:00   Thursday      23  \n",
       "84490 2019-09-06 00:00:00-08:00     Friday      23  \n",
       "84491 2019-09-07 00:00:00-08:00   Saturday      23  "
      ]
     },
     "execution_count": 32,
     "metadata": {},
     "output_type": "execute_result"
    }
   ],
   "source": [
    "resting_heart_rate = heart_rate_df[heart_rate_df['type'] == 'HKQuantityTypeIdentifierRestingHeartRate'].iloc[:,[4,6]]\n",
    "resting_heart_rate['startHour'] = resting_heart_rate['startDate'].dt.floor('h')\n",
    "resting_heart_rate['startDay'] = resting_heart_rate['startDate'].dt.floor('D')\n",
    "resting_heart_rate['id_weekday'] = resting_heart_rate['startDate'].dt.weekday_name\n",
    "resting_heart_rate['id_hour'] = resting_heart_rate['startDate'].dt.hour\n",
    "\n",
    "resting_heart_rate['id_hour'] = resting_heart_rate['id_hour'].astype('object')\n",
    "resting_heart_rate['id_weekday'] = pd.Categorical(resting_heart_rate['id_weekday'], \n",
    "                                                  categories=['Monday', 'Tuesday', 'Wednesday', \n",
    "                                                              'Thursday', 'Friday', 'Saturday', 'Sunday'],\n",
    "                                                  ordered=True)\n",
    "resting_heart_rate.head(10)"
   ]
  },
  {
   "cell_type": "code",
   "execution_count": 33,
   "metadata": {},
   "outputs": [
    {
     "data": {
      "text/plain": [
       "id_hour\n",
       "0     80\n",
       "1      6\n",
       "2      6\n",
       "6      1\n",
       "7      1\n",
       "8     17\n",
       "16     3\n",
       "21     1\n",
       "23    63\n",
       "Name: value, dtype: int64"
      ]
     },
     "execution_count": 33,
     "metadata": {},
     "output_type": "execute_result"
    }
   ],
   "source": [
    "# one thing to notice is that since the resting heart rate has a much longer time interval, \n",
    "# the start time is not evenly distributed among hours\n",
    "# so I will not go into hour level in the below analysis\n",
    "resting_heart_rate.groupby('id_hour')['value'].count()"
   ]
  },
  {
   "cell_type": "code",
   "execution_count": 34,
   "metadata": {},
   "outputs": [
    {
     "data": {
      "text/plain": [
       "count    178.000000\n",
       "mean      57.202247\n",
       "std        4.174661\n",
       "min       48.000000\n",
       "25%       54.000000\n",
       "50%       58.000000\n",
       "75%       59.000000\n",
       "max       73.000000\n",
       "Name: value, dtype: float64"
      ]
     },
     "execution_count": 34,
     "metadata": {},
     "output_type": "execute_result"
    }
   ],
   "source": [
    "# let's look at the resting heart rate distribution\n",
    "resting_heart_rate['value'].describe()"
   ]
  },
  {
   "cell_type": "code",
   "execution_count": 35,
   "metadata": {},
   "outputs": [
    {
     "data": {
      "text/plain": [
       "<matplotlib.axes._subplots.AxesSubplot at 0x1a17d794d0>"
      ]
     },
     "execution_count": 35,
     "metadata": {},
     "output_type": "execute_result"
    },
    {
     "data": {
      "image/png": "[encoded data removed]",
      "text/plain": [
       "<Figure size 432x288 with 1 Axes>"
      ]
     },
     "metadata": {
      "needs_background": "light"
     },
     "output_type": "display_data"
    }
   ],
   "source": [
    "sns.distplot(resting_heart_rate['value'])"
   ]
  },
  {
   "cell_type": "code",
   "execution_count": 36,
   "metadata": {},
   "outputs": [
    {
     "name": "stderr",
     "output_type": "stream",
     "text": [
      "/opt/anaconda3/lib/python3.7/site-packages/seaborn/relational.py:792: FutureWarning: Converting timezone-aware DatetimeArray to timezone-naive ndarray with 'datetime64[ns]' dtype. In the future, this will return an ndarray with 'object' dtype where each element is a 'pandas.Timestamp' with the correct 'tz'.\n",
      "\tTo accept the future behavior, pass 'dtype=object'.\n",
      "\tTo keep the old behavior, pass 'dtype=\"datetime64[ns]\"'.\n",
      "  x, y = np.asarray(x), np.asarray(y)\n"
     ]
    },
    {
     "data": {
      "image/png": "[encoded data removed]",
      "text/plain": [
       "<Figure size 432x288 with 1 Axes>"
      ]
     },
     "metadata": {
      "needs_background": "light"
     },
     "output_type": "display_data"
    }
   ],
   "source": [
    "# let's also look at the average resting heart rate trend\n",
    "# This looks much better than the all heart rate records trend as it only includes heart rate while resting\n",
    "# though stil some weird spikes\n",
    "resting_heart_rate_trend = resting_heart_rate.groupby('startDay')['value'].agg(avg_heart_rate = 'mean',\n",
    "                                                                               record_num = 'count').reset_index()\n",
    "ax = sns.lineplot(x = 'startDay', y = 'avg_heart_rate', data = resting_heart_rate_trend)\n",
    "ax.set_xlabel('Date')\n",
    "ax.set_ylabel('Average Resting Heart Rate')\n",
    "ax.set_ylim([0, 80])\n",
    "plt.show()"
   ]
  },
  {
   "cell_type": "code",
   "execution_count": 39,
   "metadata": {
    "scrolled": false
   },
   "outputs": [
    {
     "data": {
      "image/png": "[encoded data removed]",
      "text/plain": [
       "<Figure size 576x432 with 1 Axes>"
      ]
     },
     "metadata": {
      "needs_background": "light"
     },
     "output_type": "display_data"
    }
   ],
   "source": [
    "# Next, how about the resting heart rate distribution on each weekday?\n",
    "fig = plt.figure(figsize=(8, 6))\n",
    "ax = sns.boxplot(x = 'id_weekday', y = 'value', data = resting_heart_rate)\n",
    "ax.set_xlabel('Weekday')\n",
    "ax.set_ylabel('Resting Heart Rate')\n",
    "plt.show()"
   ]
  },
  {
   "cell_type": "markdown",
   "metadata": {},
   "source": [
    "**Walking Heart Rate**"
   ]
  },
  {
   "cell_type": "code",
   "execution_count": 40,
   "metadata": {},
   "outputs": [
    {
     "data": {
      "text/html": [
       "<div>\n",
       "<style scoped>\n",
       "    .dataframe tbody tr th:only-of-type {\n",
       "        vertical-align: middle;\n",
       "    }\n",
       "\n",
       "    .dataframe tbody tr th {\n",
       "        vertical-align: top;\n",
       "    }\n",
       "\n",
       "    .dataframe thead th {\n",
       "        text-align: right;\n",
       "    }\n",
       "</style>\n",
       "<table border=\"1\" class=\"dataframe\">\n",
       "  <thead>\n",
       "    <tr style=\"text-align: right;\">\n",
       "      <th></th>\n",
       "      <th>startDate</th>\n",
       "      <th>value</th>\n",
       "      <th>startHour</th>\n",
       "      <th>startDay</th>\n",
       "      <th>id_weekday</th>\n",
       "    </tr>\n",
       "  </thead>\n",
       "  <tbody>\n",
       "    <tr>\n",
       "      <td>84660</td>\n",
       "      <td>2019-08-29 23:04:37-08:00</td>\n",
       "      <td>96.0</td>\n",
       "      <td>2019-08-29 23:00:00-08:00</td>\n",
       "      <td>2019-08-29 00:00:00-08:00</td>\n",
       "      <td>Thursday</td>\n",
       "    </tr>\n",
       "    <tr>\n",
       "      <td>84661</td>\n",
       "      <td>2019-08-30 23:00:38-08:00</td>\n",
       "      <td>108.0</td>\n",
       "      <td>2019-08-30 23:00:00-08:00</td>\n",
       "      <td>2019-08-30 00:00:00-08:00</td>\n",
       "      <td>Friday</td>\n",
       "    </tr>\n",
       "    <tr>\n",
       "      <td>84662</td>\n",
       "      <td>2019-08-31 23:02:07-08:00</td>\n",
       "      <td>99.0</td>\n",
       "      <td>2019-08-31 23:00:00-08:00</td>\n",
       "      <td>2019-08-31 00:00:00-08:00</td>\n",
       "      <td>Saturday</td>\n",
       "    </tr>\n",
       "    <tr>\n",
       "      <td>84663</td>\n",
       "      <td>2019-09-01 23:24:49-08:00</td>\n",
       "      <td>95.0</td>\n",
       "      <td>2019-09-01 23:00:00-08:00</td>\n",
       "      <td>2019-09-01 00:00:00-08:00</td>\n",
       "      <td>Sunday</td>\n",
       "    </tr>\n",
       "    <tr>\n",
       "      <td>84664</td>\n",
       "      <td>2019-09-02 23:00:12-08:00</td>\n",
       "      <td>94.0</td>\n",
       "      <td>2019-09-02 23:00:00-08:00</td>\n",
       "      <td>2019-09-02 00:00:00-08:00</td>\n",
       "      <td>Monday</td>\n",
       "    </tr>\n",
       "    <tr>\n",
       "      <td>84665</td>\n",
       "      <td>2019-09-03 23:06:44-08:00</td>\n",
       "      <td>95.0</td>\n",
       "      <td>2019-09-03 23:00:00-08:00</td>\n",
       "      <td>2019-09-03 00:00:00-08:00</td>\n",
       "      <td>Tuesday</td>\n",
       "    </tr>\n",
       "    <tr>\n",
       "      <td>84666</td>\n",
       "      <td>2019-09-04 23:08:00-08:00</td>\n",
       "      <td>103.0</td>\n",
       "      <td>2019-09-04 23:00:00-08:00</td>\n",
       "      <td>2019-09-04 00:00:00-08:00</td>\n",
       "      <td>Wednesday</td>\n",
       "    </tr>\n",
       "    <tr>\n",
       "      <td>84667</td>\n",
       "      <td>2019-09-05 23:03:38-08:00</td>\n",
       "      <td>88.0</td>\n",
       "      <td>2019-09-05 23:00:00-08:00</td>\n",
       "      <td>2019-09-05 00:00:00-08:00</td>\n",
       "      <td>Thursday</td>\n",
       "    </tr>\n",
       "    <tr>\n",
       "      <td>84668</td>\n",
       "      <td>2019-09-06 23:16:19-08:00</td>\n",
       "      <td>98.5</td>\n",
       "      <td>2019-09-06 23:00:00-08:00</td>\n",
       "      <td>2019-09-06 00:00:00-08:00</td>\n",
       "      <td>Friday</td>\n",
       "    </tr>\n",
       "    <tr>\n",
       "      <td>84669</td>\n",
       "      <td>2019-09-07 23:47:03-08:00</td>\n",
       "      <td>115.0</td>\n",
       "      <td>2019-09-07 23:00:00-08:00</td>\n",
       "      <td>2019-09-07 00:00:00-08:00</td>\n",
       "      <td>Saturday</td>\n",
       "    </tr>\n",
       "  </tbody>\n",
       "</table>\n",
       "</div>"
      ],
      "text/plain": [
       "                      startDate  value                 startHour  \\\n",
       "84660 2019-08-29 23:04:37-08:00   96.0 2019-08-29 23:00:00-08:00   \n",
       "84661 2019-08-30 23:00:38-08:00  108.0 2019-08-30 23:00:00-08:00   \n",
       "84662 2019-08-31 23:02:07-08:00   99.0 2019-08-31 23:00:00-08:00   \n",
       "84663 2019-09-01 23:24:49-08:00   95.0 2019-09-01 23:00:00-08:00   \n",
       "84664 2019-09-02 23:00:12-08:00   94.0 2019-09-02 23:00:00-08:00   \n",
       "84665 2019-09-03 23:06:44-08:00   95.0 2019-09-03 23:00:00-08:00   \n",
       "84666 2019-09-04 23:08:00-08:00  103.0 2019-09-04 23:00:00-08:00   \n",
       "84667 2019-09-05 23:03:38-08:00   88.0 2019-09-05 23:00:00-08:00   \n",
       "84668 2019-09-06 23:16:19-08:00   98.5 2019-09-06 23:00:00-08:00   \n",
       "84669 2019-09-07 23:47:03-08:00  115.0 2019-09-07 23:00:00-08:00   \n",
       "\n",
       "                       startDay id_weekday  \n",
       "84660 2019-08-29 00:00:00-08:00   Thursday  \n",
       "84661 2019-08-30 00:00:00-08:00     Friday  \n",
       "84662 2019-08-31 00:00:00-08:00   Saturday  \n",
       "84663 2019-09-01 00:00:00-08:00     Sunday  \n",
       "84664 2019-09-02 00:00:00-08:00     Monday  \n",
       "84665 2019-09-03 00:00:00-08:00    Tuesday  \n",
       "84666 2019-09-04 00:00:00-08:00  Wednesday  \n",
       "84667 2019-09-05 00:00:00-08:00   Thursday  \n",
       "84668 2019-09-06 00:00:00-08:00     Friday  \n",
       "84669 2019-09-07 00:00:00-08:00   Saturday  "
      ]
     },
     "execution_count": 40,
     "metadata": {},
     "output_type": "execute_result"
    }
   ],
   "source": [
    "# Next is the walking heart rate:\n",
    "walking_heart_rate = heart_rate_df[heart_rate_df['type'] == 'HKQuantityTypeIdentifierWalkingHeartRateAverage'].iloc[:,[4,6]]\n",
    "walking_heart_rate['startHour'] = walking_heart_rate['startDate'].dt.floor('h')\n",
    "walking_heart_rate['startDay'] = walking_heart_rate['startDate'].dt.floor('D')\n",
    "walking_heart_rate['id_weekday'] =walking_heart_rate['startDate'].dt.weekday_name\n",
    "\n",
    "walking_heart_rate['id_weekday'] = pd.Categorical(walking_heart_rate['id_weekday'], \n",
    "                                                  categories=['Monday', 'Tuesday', 'Wednesday', \n",
    "                                                              'Thursday', 'Friday', 'Saturday', 'Sunday'],\n",
    "                                                  ordered=True)\n",
    "walking_heart_rate.head(10)"
   ]
  },
  {
   "cell_type": "code",
   "execution_count": 41,
   "metadata": {},
   "outputs": [
    {
     "data": {
      "text/plain": [
       "count    171.000000\n",
       "mean     103.751462\n",
       "std        9.475724\n",
       "min       80.000000\n",
       "25%       97.000000\n",
       "50%      104.000000\n",
       "75%      109.000000\n",
       "max      135.000000\n",
       "Name: value, dtype: float64"
      ]
     },
     "execution_count": 41,
     "metadata": {},
     "output_type": "execute_result"
    }
   ],
   "source": [
    "# let's look at the walking heart rate distribution\n",
    "walking_heart_rate['value'].describe()"
   ]
  },
  {
   "cell_type": "code",
   "execution_count": 42,
   "metadata": {},
   "outputs": [
    {
     "data": {
      "text/plain": [
       "<matplotlib.axes._subplots.AxesSubplot at 0x1a1879d910>"
      ]
     },
     "execution_count": 42,
     "metadata": {},
     "output_type": "execute_result"
    },
    {
     "data": {
      "image/png": "[encoded data removed]",
      "text/plain": [
       "<Figure size 432x288 with 1 Axes>"
      ]
     },
     "metadata": {
      "needs_background": "light"
     },
     "output_type": "display_data"
    }
   ],
   "source": [
    "sns.distplot(walking_heart_rate['value'])"
   ]
  },
  {
   "cell_type": "code",
   "execution_count": 43,
   "metadata": {},
   "outputs": [
    {
     "name": "stderr",
     "output_type": "stream",
     "text": [
      "/opt/anaconda3/lib/python3.7/site-packages/seaborn/relational.py:792: FutureWarning: Converting timezone-aware DatetimeArray to timezone-naive ndarray with 'datetime64[ns]' dtype. In the future, this will return an ndarray with 'object' dtype where each element is a 'pandas.Timestamp' with the correct 'tz'.\n",
      "\tTo accept the future behavior, pass 'dtype=object'.\n",
      "\tTo keep the old behavior, pass 'dtype=\"datetime64[ns]\"'.\n",
      "  x, y = np.asarray(x), np.asarray(y)\n"
     ]
    },
    {
     "data": {
      "image/png": "[encoded data removed]",
      "text/plain": [
       "<Figure size 432x288 with 1 Axes>"
      ]
     },
     "metadata": {
      "needs_background": "light"
     },
     "output_type": "display_data"
    }
   ],
   "source": [
    "# average walking heart rate trend\n",
    "# It's a relatively smooth trend with a higher average than the resting heart rate\n",
    "walking_heart_rate_trend = walking_heart_rate.groupby('startDay')['value'].agg(avg_heart_rate = 'mean',\n",
    "                                                                               record_num = 'count').reset_index()\n",
    "ax = sns.lineplot(x = 'startDay', y = 'avg_heart_rate', data = walking_heart_rate_trend)\n",
    "ax.set_xlabel('Date')\n",
    "ax.set_ylabel('Average Walking Heart Rate')\n",
    "ax.set_ylim([0, 140])\n",
    "plt.show()"
   ]
  },
  {
   "cell_type": "code",
   "execution_count": 44,
   "metadata": {},
   "outputs": [
    {
     "data": {
      "image/png": "[encoded data removed]",
      "text/plain": [
       "<Figure size 576x432 with 1 Axes>"
      ]
     },
     "metadata": {
      "needs_background": "light"
     },
     "output_type": "display_data"
    }
   ],
   "source": [
    "# walking heart rate distribution on each weekday?\n",
    "fig = plt.figure(figsize=(8, 6))\n",
    "ax = sns.boxplot(x = 'id_weekday', y = 'value', data = walking_heart_rate)\n",
    "ax.set_xlabel('Weekday')\n",
    "ax.set_ylabel('Walking Heart Rate')\n",
    "plt.show()"
   ]
  },
  {
   "cell_type": "markdown",
   "metadata": {},
   "source": [
    "**Resting vs. Walking Heart Rate**"
   ]
  },
  {
   "cell_type": "code",
   "execution_count": 45,
   "metadata": {},
   "outputs": [
    {
     "data": {
      "image/png": "[encoded data removed]",
      "text/plain": [
       "<Figure size 576x432 with 1 Axes>"
      ]
     },
     "metadata": {
      "needs_background": "light"
     },
     "output_type": "display_data"
    }
   ],
   "source": [
    "# Now! Let's plot resting and walking heart rate together to get a straightforward comparison\n",
    "fig = plt.figure(figsize=(8, 6))\n",
    "ax = sns.distplot(resting_heart_rate['value'], color = 'b', label = 'Resting')\n",
    "ax.legend(loc = 0)\n",
    "ax2 = sns.distplot(walking_heart_rate['value'], color = 'r', label = 'Walking')\n",
    "ax2.legend(loc = 1)\n",
    "ax.set_xlabel('Heart Rate')\n",
    "plt.show()"
   ]
  },
  {
   "cell_type": "code",
   "execution_count": 46,
   "metadata": {},
   "outputs": [
    {
     "name": "stderr",
     "output_type": "stream",
     "text": [
      "/opt/anaconda3/lib/python3.7/site-packages/seaborn/relational.py:792: FutureWarning: Converting timezone-aware DatetimeArray to timezone-naive ndarray with 'datetime64[ns]' dtype. In the future, this will return an ndarray with 'object' dtype where each element is a 'pandas.Timestamp' with the correct 'tz'.\n",
      "\tTo accept the future behavior, pass 'dtype=object'.\n",
      "\tTo keep the old behavior, pass 'dtype=\"datetime64[ns]\"'.\n",
      "  x, y = np.asarray(x), np.asarray(y)\n"
     ]
    },
    {
     "data": {
      "image/png": "[encoded data removed]",
      "text/plain": [
       "<Figure size 576x432 with 1 Axes>"
      ]
     },
     "metadata": {
      "needs_background": "light"
     },
     "output_type": "display_data"
    }
   ],
   "source": [
    "# avg daily heart rate comparison\n",
    "fig = plt.figure(figsize=(8, 6))\n",
    "ax = sns.lineplot(x = 'startDay', y = 'avg_heart_rate', data = resting_heart_rate_trend,\n",
    "                 color = 'b', label = 'Resting')\n",
    "ax.legend(loc = 0)\n",
    "ax2 = sns.lineplot(x = 'startDay', y = 'avg_heart_rate', data = walking_heart_rate_trend,\n",
    "                  color = 'r', label = 'Walking')\n",
    "ax2.legend(loc = 1)\n",
    "ax.set_xlabel('Date')\n",
    "ax.set_ylabel('Average Heart Rate')\n",
    "ax.set_ylim([0, 140])\n",
    "plt.show()"
   ]
  },
  {
   "cell_type": "code",
   "execution_count": null,
   "metadata": {},
   "outputs": [],
   "source": []
  }
 ],
 "metadata": {
  "kernelspec": {
   "display_name": "Python 3",
   "language": "python",
   "name": "python3"
  },
  "language_info": {
   "codemirror_mode": {
    "name": "ipython",
    "version": 3
   },
   "file_extension": ".py",
   "mimetype": "text/x-python",
   "name": "python",
   "nbconvert_exporter": "python",
   "pygments_lexer": "ipython3",
   "version": "3.7.4"
  }
 },
 "nbformat": 4,
 "nbformat_minor": 2
}
